{
 "cells": [
  {
   "cell_type": "code",
   "execution_count": 2,
   "metadata": {},
   "outputs": [],
   "source": [
    "import numpy as np\n",
    "import pandas as pd\n",
    "import matplotlib.pyplot as plt\n",
    "import seaborn as sns\n",
    "import holidays\n",
    "from tqdm import tqdm\n",
    "\n",
    "import plotly.graph_objects as go\n",
    "from plotly.subplots import make_subplots\n",
    "import plotly.express as px\n",
    "import plotly.graph_objects as go\n",
    "import warnings \n",
    "warnings.filterwarnings(\"ignore\")"
   ]
  },
  {
   "cell_type": "code",
   "execution_count": 3,
   "metadata": {},
   "outputs": [],
   "source": [
    "Amazon_df = pd.read_csv(\"Amazon Sale Report.csv\")"
   ]
  },
  {
   "cell_type": "markdown",
   "metadata": {},
   "source": [
    "## Cleaning data and Exploration"
   ]
  },
  {
   "cell_type": "code",
   "execution_count": 4,
   "metadata": {},
   "outputs": [],
   "source": [
    "Amazon_df = (Amazon_df.drop_duplicates(keep='first').reset_index(drop=True)) # removed"
   ]
  },
  {
   "cell_type": "code",
   "execution_count": 5,
   "metadata": {},
   "outputs": [
    {
     "name": "stdout",
     "output_type": "stream",
     "text": [
      "<class 'pandas.core.frame.DataFrame'>\n",
      "RangeIndex: 128975 entries, 0 to 128974\n",
      "Data columns (total 24 columns):\n",
      " #   Column              Non-Null Count   Dtype  \n",
      "---  ------              --------------   -----  \n",
      " 0   index               128975 non-null  int64  \n",
      " 1   Order ID            128975 non-null  object \n",
      " 2   Date                128975 non-null  object \n",
      " 3   Status              128975 non-null  object \n",
      " 4   Fulfilment          128975 non-null  object \n",
      " 5   Sales Channel       128975 non-null  object \n",
      " 6   ship-service-level  128975 non-null  object \n",
      " 7   Style               128975 non-null  object \n",
      " 8   SKU                 128975 non-null  object \n",
      " 9   Category            128975 non-null  object \n",
      " 10  Size                128975 non-null  object \n",
      " 11  ASIN                128975 non-null  object \n",
      " 12  Courier Status      122103 non-null  object \n",
      " 13  Qty                 128975 non-null  int64  \n",
      " 14  currency            121180 non-null  object \n",
      " 15  Amount              121180 non-null  float64\n",
      " 16  ship-city           128942 non-null  object \n",
      " 17  ship-state          128942 non-null  object \n",
      " 18  ship-postal-code    128942 non-null  float64\n",
      " 19  ship-country        128942 non-null  object \n",
      " 20  promotion-ids       79822 non-null   object \n",
      " 21  B2B                 128975 non-null  bool   \n",
      " 22  fulfilled-by        39277 non-null   object \n",
      " 23  Unnamed: 22         79925 non-null   object \n",
      "dtypes: bool(1), float64(2), int64(2), object(19)\n",
      "memory usage: 22.8+ MB\n"
     ]
    }
   ],
   "source": [
    "Amazon_df.info()"
   ]
  },
  {
   "cell_type": "code",
   "execution_count": 6,
   "metadata": {},
   "outputs": [
    {
     "data": {
      "text/html": [
       "<div>\n",
       "<style scoped>\n",
       "    .dataframe tbody tr th:only-of-type {\n",
       "        vertical-align: middle;\n",
       "    }\n",
       "\n",
       "    .dataframe tbody tr th {\n",
       "        vertical-align: top;\n",
       "    }\n",
       "\n",
       "    .dataframe thead th {\n",
       "        text-align: right;\n",
       "    }\n",
       "</style>\n",
       "<table border=\"1\" class=\"dataframe\">\n",
       "  <thead>\n",
       "    <tr style=\"text-align: right;\">\n",
       "      <th></th>\n",
       "      <th>index</th>\n",
       "      <th>Qty</th>\n",
       "      <th>Amount</th>\n",
       "      <th>ship-postal-code</th>\n",
       "    </tr>\n",
       "  </thead>\n",
       "  <tbody>\n",
       "    <tr>\n",
       "      <th>count</th>\n",
       "      <td>128975.000000</td>\n",
       "      <td>128975.000000</td>\n",
       "      <td>121180.000000</td>\n",
       "      <td>128942.000000</td>\n",
       "    </tr>\n",
       "    <tr>\n",
       "      <th>mean</th>\n",
       "      <td>64487.000000</td>\n",
       "      <td>0.904431</td>\n",
       "      <td>648.561465</td>\n",
       "      <td>463966.236509</td>\n",
       "    </tr>\n",
       "    <tr>\n",
       "      <th>std</th>\n",
       "      <td>37232.019822</td>\n",
       "      <td>0.313354</td>\n",
       "      <td>281.211687</td>\n",
       "      <td>191476.764941</td>\n",
       "    </tr>\n",
       "    <tr>\n",
       "      <th>min</th>\n",
       "      <td>0.000000</td>\n",
       "      <td>0.000000</td>\n",
       "      <td>0.000000</td>\n",
       "      <td>110001.000000</td>\n",
       "    </tr>\n",
       "    <tr>\n",
       "      <th>25%</th>\n",
       "      <td>32243.500000</td>\n",
       "      <td>1.000000</td>\n",
       "      <td>449.000000</td>\n",
       "      <td>382421.000000</td>\n",
       "    </tr>\n",
       "    <tr>\n",
       "      <th>50%</th>\n",
       "      <td>64487.000000</td>\n",
       "      <td>1.000000</td>\n",
       "      <td>605.000000</td>\n",
       "      <td>500033.000000</td>\n",
       "    </tr>\n",
       "    <tr>\n",
       "      <th>75%</th>\n",
       "      <td>96730.500000</td>\n",
       "      <td>1.000000</td>\n",
       "      <td>788.000000</td>\n",
       "      <td>600024.000000</td>\n",
       "    </tr>\n",
       "    <tr>\n",
       "      <th>max</th>\n",
       "      <td>128974.000000</td>\n",
       "      <td>15.000000</td>\n",
       "      <td>5584.000000</td>\n",
       "      <td>989898.000000</td>\n",
       "    </tr>\n",
       "  </tbody>\n",
       "</table>\n",
       "</div>"
      ],
      "text/plain": [
       "               index            Qty         Amount  ship-postal-code\n",
       "count  128975.000000  128975.000000  121180.000000     128942.000000\n",
       "mean    64487.000000       0.904431     648.561465     463966.236509\n",
       "std     37232.019822       0.313354     281.211687     191476.764941\n",
       "min         0.000000       0.000000       0.000000     110001.000000\n",
       "25%     32243.500000       1.000000     449.000000     382421.000000\n",
       "50%     64487.000000       1.000000     605.000000     500033.000000\n",
       "75%     96730.500000       1.000000     788.000000     600024.000000\n",
       "max    128974.000000      15.000000    5584.000000     989898.000000"
      ]
     },
     "execution_count": 6,
     "metadata": {},
     "output_type": "execute_result"
    }
   ],
   "source": [
    "Amazon_df.describe()"
   ]
  },
  {
   "cell_type": "code",
   "execution_count": 7,
   "metadata": {},
   "outputs": [
    {
     "data": {
      "text/plain": [
       "index                     0\n",
       "Order ID                  0\n",
       "Date                      0\n",
       "Status                    0\n",
       "Fulfilment                0\n",
       "Sales Channel             0\n",
       "ship-service-level        0\n",
       "Style                     0\n",
       "SKU                       0\n",
       "Category                  0\n",
       "Size                      0\n",
       "ASIN                      0\n",
       "Courier Status         6872\n",
       "Qty                       0\n",
       "currency               7795\n",
       "Amount                 7795\n",
       "ship-city                33\n",
       "ship-state               33\n",
       "ship-postal-code         33\n",
       "ship-country             33\n",
       "promotion-ids         49153\n",
       "B2B                       0\n",
       "fulfilled-by          89698\n",
       "Unnamed: 22           49050\n",
       "dtype: int64"
      ]
     },
     "execution_count": 7,
     "metadata": {},
     "output_type": "execute_result"
    }
   ],
   "source": [
    "Amazon_df.isna().sum() "
   ]
  },
  {
   "cell_type": "code",
   "execution_count": 8,
   "metadata": {},
   "outputs": [
    {
     "data": {
      "text/plain": [
       "array(['INR'], dtype=object)"
      ]
     },
     "execution_count": 8,
     "metadata": {},
     "output_type": "execute_result"
    }
   ],
   "source": [
    "# currency fillna with indian currency\n",
    "Amazon_df['currency'] = Amazon_df['currency'].fillna('INR')\n",
    "Amazon_df.currency.unique()"
   ]
  },
  {
   "cell_type": "code",
   "execution_count": 9,
   "metadata": {},
   "outputs": [
    {
     "name": "stderr",
     "output_type": "stream",
     "text": [
      "100%|██████████| 7795/7795 [01:02<00:00, 125.29it/s]\n"
     ]
    }
   ],
   "source": [
    "styleDf = Amazon_df.groupby('Style')['Amount'].mean()\n",
    "for data in tqdm(Amazon_df[Amazon_df[\"Amount\"].isna()].values):\n",
    "    order = data[1]\n",
    "    style = data[7]\n",
    "    Amazon_df.loc[Amazon_df[\"Order ID\"] == order, 'Amount'] = styleDf[style]"
   ]
  },
  {
   "cell_type": "code",
   "execution_count": 10,
   "metadata": {},
   "outputs": [],
   "source": [
    "# Interquartile Range (outlier detection)\n",
    "IQR = Amazon_df['Amount'].quantile(0.75) - Amazon_df['Amount'].quantile(0.25)\n",
    "1.5*IQR\n",
    "upper_bound = Amazon_df['Amount'].quantile(0.75) + 1.5*IQR   \n",
    "lower_bound = Amazon_df['Amount'].quantile(0.25) - 1.5*IQR \n",
    "\n",
    "Median = Amazon_df['Amount'].median()\n",
    "Amazon_df['Amount'] = Amazon_df['Amount'].apply(lambda x: Median if x > upper_bound  or x < lower_bound else x) \n",
    "Amazon_df['Amount'] = Amazon_df['Amount'].apply(lambda x: Median if x == 0 else x) "
   ]
  },
  {
   "cell_type": "markdown",
   "metadata": {},
   "source": [
    "## Analysis"
   ]
  },
  {
   "cell_type": "markdown",
   "metadata": {},
   "source": [
    "### Saling by holiday"
   ]
  },
  {
   "cell_type": "code",
   "execution_count": 11,
   "metadata": {},
   "outputs": [
    {
     "data": {
      "text/html": [
       "<div>\n",
       "<style scoped>\n",
       "    .dataframe tbody tr th:only-of-type {\n",
       "        vertical-align: middle;\n",
       "    }\n",
       "\n",
       "    .dataframe tbody tr th {\n",
       "        vertical-align: top;\n",
       "    }\n",
       "\n",
       "    .dataframe thead th {\n",
       "        text-align: right;\n",
       "    }\n",
       "</style>\n",
       "<table border=\"1\" class=\"dataframe\">\n",
       "  <thead>\n",
       "    <tr style=\"text-align: right;\">\n",
       "      <th></th>\n",
       "      <th>Date</th>\n",
       "      <th>total_qty</th>\n",
       "      <th>total_amount</th>\n",
       "    </tr>\n",
       "  </thead>\n",
       "  <tbody>\n",
       "    <tr>\n",
       "      <th>0</th>\n",
       "      <td>2022-03-31</td>\n",
       "      <td>156</td>\n",
       "      <td>1.070643e+05</td>\n",
       "    </tr>\n",
       "    <tr>\n",
       "      <th>1</th>\n",
       "      <td>2022-04-01</td>\n",
       "      <td>1319</td>\n",
       "      <td>9.257107e+05</td>\n",
       "    </tr>\n",
       "    <tr>\n",
       "      <th>2</th>\n",
       "      <td>2022-04-02</td>\n",
       "      <td>1408</td>\n",
       "      <td>9.748835e+05</td>\n",
       "    </tr>\n",
       "    <tr>\n",
       "      <th>3</th>\n",
       "      <td>2022-04-03</td>\n",
       "      <td>1544</td>\n",
       "      <td>1.073058e+06</td>\n",
       "    </tr>\n",
       "    <tr>\n",
       "      <th>4</th>\n",
       "      <td>2022-04-04</td>\n",
       "      <td>1331</td>\n",
       "      <td>9.267426e+05</td>\n",
       "    </tr>\n",
       "    <tr>\n",
       "      <th>...</th>\n",
       "      <td>...</td>\n",
       "      <td>...</td>\n",
       "      <td>...</td>\n",
       "    </tr>\n",
       "    <tr>\n",
       "      <th>86</th>\n",
       "      <td>2022-06-25</td>\n",
       "      <td>940</td>\n",
       "      <td>6.796442e+05</td>\n",
       "    </tr>\n",
       "    <tr>\n",
       "      <th>87</th>\n",
       "      <td>2022-06-26</td>\n",
       "      <td>1122</td>\n",
       "      <td>7.951961e+05</td>\n",
       "    </tr>\n",
       "    <tr>\n",
       "      <th>88</th>\n",
       "      <td>2022-06-27</td>\n",
       "      <td>1023</td>\n",
       "      <td>7.466875e+05</td>\n",
       "    </tr>\n",
       "    <tr>\n",
       "      <th>89</th>\n",
       "      <td>2022-06-28</td>\n",
       "      <td>1104</td>\n",
       "      <td>8.100987e+05</td>\n",
       "    </tr>\n",
       "    <tr>\n",
       "      <th>90</th>\n",
       "      <td>2022-06-29</td>\n",
       "      <td>627</td>\n",
       "      <td>4.178863e+05</td>\n",
       "    </tr>\n",
       "  </tbody>\n",
       "</table>\n",
       "<p>91 rows × 3 columns</p>\n",
       "</div>"
      ],
      "text/plain": [
       "         Date  total_qty  total_amount\n",
       "0  2022-03-31        156  1.070643e+05\n",
       "1  2022-04-01       1319  9.257107e+05\n",
       "2  2022-04-02       1408  9.748835e+05\n",
       "3  2022-04-03       1544  1.073058e+06\n",
       "4  2022-04-04       1331  9.267426e+05\n",
       "..        ...        ...           ...\n",
       "86 2022-06-25        940  6.796442e+05\n",
       "87 2022-06-26       1122  7.951961e+05\n",
       "88 2022-06-27       1023  7.466875e+05\n",
       "89 2022-06-28       1104  8.100987e+05\n",
       "90 2022-06-29        627  4.178863e+05\n",
       "\n",
       "[91 rows x 3 columns]"
      ]
     },
     "execution_count": 11,
     "metadata": {},
     "output_type": "execute_result"
    }
   ],
   "source": [
    "# Grouping the date column\n",
    "Amazon_df['Date'] = pd.to_datetime(Amazon_df['Date'])\n",
    "daily_sales = Amazon_df.groupby('Date').agg(total_qty=('Qty', 'sum'), total_amount=('Amount', 'sum')).reset_index()\n",
    "daily_sales"
   ]
  },
  {
   "cell_type": "code",
   "execution_count": 12,
   "metadata": {},
   "outputs": [],
   "source": [
    "in_holidays = list(holidays.IN(years=[2022, 2023]))\n",
    "in_holidays = daily_sales[daily_sales['Date'].isin(in_holidays)]"
   ]
  },
  {
   "cell_type": "code",
   "execution_count": 13,
   "metadata": {},
   "outputs": [
    {
     "data": {
      "image/png": "[encoded data removed]",
      "text/plain": [
       "<Figure size 1000x500 with 1 Axes>"
      ]
     },
     "metadata": {},
     "output_type": "display_data"
    }
   ],
   "source": [
    "plt.figure(figsize=(10, 5))\n",
    "sns.lineplot(data=daily_sales, x='Date', y='total_qty', label='Total Quantity Sold', color='blue', linewidth=2)\n",
    "sns.scatterplot(data=in_holidays,  x='Date', y='total_qty', color='red', s=100, label='Holidays')\n",
    "\n",
    "plt.title('Sales Trends Over Time')\n",
    "plt.xlabel('Date')\n",
    "plt.ylabel('Sales')\n",
    "plt.xticks(rotation=45)  \n",
    "plt.legend()\n",
    "plt.grid(True)\n",
    "plt.show()"
   ]
  },
  {
   "cell_type": "code",
   "execution_count": 14,
   "metadata": {},
   "outputs": [
    {
     "data": {
      "image/png": "[encoded data removed]",
      "text/plain": [
       "<Figure size 1000x500 with 1 Axes>"
      ]
     },
     "metadata": {},
     "output_type": "display_data"
    }
   ],
   "source": [
    "plt.figure(figsize=(10, 5))\n",
    "sns.lineplot(data=daily_sales, x='Date', y='total_amount', label='Total Sales Amount ($)', color='orange', linewidth=2)\n",
    "sns.scatterplot(data=in_holidays,  x='Date', y='total_amount', color='red', s=100, label='Holidays')\n",
    "\n",
    "plt.title('Sales Trends Over Time')\n",
    "plt.xlabel('Date')\n",
    "plt.ylabel('Sales')\n",
    "plt.xticks(rotation=45)  \n",
    "plt.legend()\n",
    "plt.grid(True)\n",
    "plt.show()"
   ]
  },
  {
   "cell_type": "code",
   "execution_count": 15,
   "metadata": {},
   "outputs": [
    {
     "data": {
      "text/html": [
       "<div>\n",
       "<style scoped>\n",
       "    .dataframe tbody tr th:only-of-type {\n",
       "        vertical-align: middle;\n",
       "    }\n",
       "\n",
       "    .dataframe tbody tr th {\n",
       "        vertical-align: top;\n",
       "    }\n",
       "\n",
       "    .dataframe thead th {\n",
       "        text-align: right;\n",
       "    }\n",
       "</style>\n",
       "<table border=\"1\" class=\"dataframe\">\n",
       "  <thead>\n",
       "    <tr style=\"text-align: right;\">\n",
       "      <th></th>\n",
       "      <th>Date</th>\n",
       "      <th>total_qty</th>\n",
       "      <th>total_amount</th>\n",
       "      <th>nearest_holiday</th>\n",
       "      <th>nearest_holiday_day</th>\n",
       "    </tr>\n",
       "  </thead>\n",
       "  <tbody>\n",
       "    <tr>\n",
       "      <th>0</th>\n",
       "      <td>2022-03-31</td>\n",
       "      <td>156</td>\n",
       "      <td>1.070643e+05</td>\n",
       "      <td>2022-04-10</td>\n",
       "      <td>-10</td>\n",
       "    </tr>\n",
       "    <tr>\n",
       "      <th>1</th>\n",
       "      <td>2022-04-01</td>\n",
       "      <td>1319</td>\n",
       "      <td>9.257107e+05</td>\n",
       "      <td>2022-04-10</td>\n",
       "      <td>-9</td>\n",
       "    </tr>\n",
       "    <tr>\n",
       "      <th>2</th>\n",
       "      <td>2022-04-02</td>\n",
       "      <td>1408</td>\n",
       "      <td>9.748835e+05</td>\n",
       "      <td>2022-04-10</td>\n",
       "      <td>-8</td>\n",
       "    </tr>\n",
       "    <tr>\n",
       "      <th>3</th>\n",
       "      <td>2022-04-03</td>\n",
       "      <td>1544</td>\n",
       "      <td>1.073058e+06</td>\n",
       "      <td>2022-04-10</td>\n",
       "      <td>-7</td>\n",
       "    </tr>\n",
       "    <tr>\n",
       "      <th>4</th>\n",
       "      <td>2022-04-04</td>\n",
       "      <td>1331</td>\n",
       "      <td>9.267426e+05</td>\n",
       "      <td>2022-04-10</td>\n",
       "      <td>-6</td>\n",
       "    </tr>\n",
       "    <tr>\n",
       "      <th>...</th>\n",
       "      <td>...</td>\n",
       "      <td>...</td>\n",
       "      <td>...</td>\n",
       "      <td>...</td>\n",
       "      <td>...</td>\n",
       "    </tr>\n",
       "    <tr>\n",
       "      <th>86</th>\n",
       "      <td>2022-06-25</td>\n",
       "      <td>940</td>\n",
       "      <td>6.796442e+05</td>\n",
       "      <td>2022-06-05</td>\n",
       "      <td>20</td>\n",
       "    </tr>\n",
       "    <tr>\n",
       "      <th>87</th>\n",
       "      <td>2022-06-26</td>\n",
       "      <td>1122</td>\n",
       "      <td>7.951961e+05</td>\n",
       "      <td>2022-06-05</td>\n",
       "      <td>21</td>\n",
       "    </tr>\n",
       "    <tr>\n",
       "      <th>88</th>\n",
       "      <td>2022-06-27</td>\n",
       "      <td>1023</td>\n",
       "      <td>7.466875e+05</td>\n",
       "      <td>2022-06-05</td>\n",
       "      <td>22</td>\n",
       "    </tr>\n",
       "    <tr>\n",
       "      <th>89</th>\n",
       "      <td>2022-06-28</td>\n",
       "      <td>1104</td>\n",
       "      <td>8.100987e+05</td>\n",
       "      <td>2022-06-05</td>\n",
       "      <td>23</td>\n",
       "    </tr>\n",
       "    <tr>\n",
       "      <th>90</th>\n",
       "      <td>2022-06-29</td>\n",
       "      <td>627</td>\n",
       "      <td>4.178863e+05</td>\n",
       "      <td>2022-06-05</td>\n",
       "      <td>24</td>\n",
       "    </tr>\n",
       "  </tbody>\n",
       "</table>\n",
       "<p>91 rows × 5 columns</p>\n",
       "</div>"
      ],
      "text/plain": [
       "         Date  total_qty  total_amount nearest_holiday  nearest_holiday_day\n",
       "0  2022-03-31        156  1.070643e+05      2022-04-10                  -10\n",
       "1  2022-04-01       1319  9.257107e+05      2022-04-10                   -9\n",
       "2  2022-04-02       1408  9.748835e+05      2022-04-10                   -8\n",
       "3  2022-04-03       1544  1.073058e+06      2022-04-10                   -7\n",
       "4  2022-04-04       1331  9.267426e+05      2022-04-10                   -6\n",
       "..        ...        ...           ...             ...                  ...\n",
       "86 2022-06-25        940  6.796442e+05      2022-06-05                   20\n",
       "87 2022-06-26       1122  7.951961e+05      2022-06-05                   21\n",
       "88 2022-06-27       1023  7.466875e+05      2022-06-05                   22\n",
       "89 2022-06-28       1104  8.100987e+05      2022-06-05                   23\n",
       "90 2022-06-29        627  4.178863e+05      2022-06-05                   24\n",
       "\n",
       "[91 rows x 5 columns]"
      ]
     },
     "execution_count": 15,
     "metadata": {},
     "output_type": "execute_result"
    }
   ],
   "source": [
    "# Nearest holiday\n",
    "differences = abs(daily_sales['Date'].values[:, None] - in_holidays[\"Date\"].values)\n",
    "nearest_indices = np.argmin(differences, axis=1)\n",
    "daily_sales[\"nearest_holiday\"] = in_holidays['Date'].iloc[nearest_indices].values\n",
    "daily_sales[\"nearest_holiday_day\"] = (daily_sales[\"Date\"] - daily_sales[\"nearest_holiday\"]).dt.days\n",
    "daily_sales"
   ]
  },
  {
   "cell_type": "code",
   "execution_count": 16,
   "metadata": {},
   "outputs": [
    {
     "data": {
      "text/html": [
       "<div>\n",
       "<style scoped>\n",
       "    .dataframe tbody tr th:only-of-type {\n",
       "        vertical-align: middle;\n",
       "    }\n",
       "\n",
       "    .dataframe tbody tr th {\n",
       "        vertical-align: top;\n",
       "    }\n",
       "\n",
       "    .dataframe thead th {\n",
       "        text-align: right;\n",
       "    }\n",
       "</style>\n",
       "<table border=\"1\" class=\"dataframe\">\n",
       "  <thead>\n",
       "    <tr style=\"text-align: right;\">\n",
       "      <th></th>\n",
       "      <th>Date</th>\n",
       "      <th>total_qty</th>\n",
       "      <th>total_amount</th>\n",
       "      <th>nearest_holiday</th>\n",
       "      <th>nearest_holiday_day</th>\n",
       "      <th>Holiday_Status</th>\n",
       "    </tr>\n",
       "  </thead>\n",
       "  <tbody>\n",
       "    <tr>\n",
       "      <th>0</th>\n",
       "      <td>2022-03-31</td>\n",
       "      <td>156</td>\n",
       "      <td>1.070643e+05</td>\n",
       "      <td>2022-04-10</td>\n",
       "      <td>-10</td>\n",
       "      <td>Normal</td>\n",
       "    </tr>\n",
       "    <tr>\n",
       "      <th>1</th>\n",
       "      <td>2022-04-01</td>\n",
       "      <td>1319</td>\n",
       "      <td>9.257107e+05</td>\n",
       "      <td>2022-04-10</td>\n",
       "      <td>-9</td>\n",
       "      <td>Normal</td>\n",
       "    </tr>\n",
       "    <tr>\n",
       "      <th>2</th>\n",
       "      <td>2022-04-02</td>\n",
       "      <td>1408</td>\n",
       "      <td>9.748835e+05</td>\n",
       "      <td>2022-04-10</td>\n",
       "      <td>-8</td>\n",
       "      <td>Normal</td>\n",
       "    </tr>\n",
       "    <tr>\n",
       "      <th>3</th>\n",
       "      <td>2022-04-03</td>\n",
       "      <td>1544</td>\n",
       "      <td>1.073058e+06</td>\n",
       "      <td>2022-04-10</td>\n",
       "      <td>-7</td>\n",
       "      <td>1 week Before Holiday</td>\n",
       "    </tr>\n",
       "    <tr>\n",
       "      <th>4</th>\n",
       "      <td>2022-04-04</td>\n",
       "      <td>1331</td>\n",
       "      <td>9.267426e+05</td>\n",
       "      <td>2022-04-10</td>\n",
       "      <td>-6</td>\n",
       "      <td>1 week Before Holiday</td>\n",
       "    </tr>\n",
       "    <tr>\n",
       "      <th>...</th>\n",
       "      <td>...</td>\n",
       "      <td>...</td>\n",
       "      <td>...</td>\n",
       "      <td>...</td>\n",
       "      <td>...</td>\n",
       "      <td>...</td>\n",
       "    </tr>\n",
       "    <tr>\n",
       "      <th>86</th>\n",
       "      <td>2022-06-25</td>\n",
       "      <td>940</td>\n",
       "      <td>6.796442e+05</td>\n",
       "      <td>2022-06-05</td>\n",
       "      <td>20</td>\n",
       "      <td>Normal</td>\n",
       "    </tr>\n",
       "    <tr>\n",
       "      <th>87</th>\n",
       "      <td>2022-06-26</td>\n",
       "      <td>1122</td>\n",
       "      <td>7.951961e+05</td>\n",
       "      <td>2022-06-05</td>\n",
       "      <td>21</td>\n",
       "      <td>Normal</td>\n",
       "    </tr>\n",
       "    <tr>\n",
       "      <th>88</th>\n",
       "      <td>2022-06-27</td>\n",
       "      <td>1023</td>\n",
       "      <td>7.466875e+05</td>\n",
       "      <td>2022-06-05</td>\n",
       "      <td>22</td>\n",
       "      <td>Normal</td>\n",
       "    </tr>\n",
       "    <tr>\n",
       "      <th>89</th>\n",
       "      <td>2022-06-28</td>\n",
       "      <td>1104</td>\n",
       "      <td>8.100987e+05</td>\n",
       "      <td>2022-06-05</td>\n",
       "      <td>23</td>\n",
       "      <td>Normal</td>\n",
       "    </tr>\n",
       "    <tr>\n",
       "      <th>90</th>\n",
       "      <td>2022-06-29</td>\n",
       "      <td>627</td>\n",
       "      <td>4.178863e+05</td>\n",
       "      <td>2022-06-05</td>\n",
       "      <td>24</td>\n",
       "      <td>Normal</td>\n",
       "    </tr>\n",
       "  </tbody>\n",
       "</table>\n",
       "<p>91 rows × 6 columns</p>\n",
       "</div>"
      ],
      "text/plain": [
       "         Date  total_qty  total_amount nearest_holiday  nearest_holiday_day  \\\n",
       "0  2022-03-31        156  1.070643e+05      2022-04-10                  -10   \n",
       "1  2022-04-01       1319  9.257107e+05      2022-04-10                   -9   \n",
       "2  2022-04-02       1408  9.748835e+05      2022-04-10                   -8   \n",
       "3  2022-04-03       1544  1.073058e+06      2022-04-10                   -7   \n",
       "4  2022-04-04       1331  9.267426e+05      2022-04-10                   -6   \n",
       "..        ...        ...           ...             ...                  ...   \n",
       "86 2022-06-25        940  6.796442e+05      2022-06-05                   20   \n",
       "87 2022-06-26       1122  7.951961e+05      2022-06-05                   21   \n",
       "88 2022-06-27       1023  7.466875e+05      2022-06-05                   22   \n",
       "89 2022-06-28       1104  8.100987e+05      2022-06-05                   23   \n",
       "90 2022-06-29        627  4.178863e+05      2022-06-05                   24   \n",
       "\n",
       "           Holiday_Status  \n",
       "0                  Normal  \n",
       "1                  Normal  \n",
       "2                  Normal  \n",
       "3   1 week Before Holiday  \n",
       "4   1 week Before Holiday  \n",
       "..                    ...  \n",
       "86                 Normal  \n",
       "87                 Normal  \n",
       "88                 Normal  \n",
       "89                 Normal  \n",
       "90                 Normal  \n",
       "\n",
       "[91 rows x 6 columns]"
      ]
     },
     "execution_count": 16,
     "metadata": {},
     "output_type": "execute_result"
    }
   ],
   "source": [
    "def categorize_sales(date):\n",
    "    \"\"\"+7 days before holiday, -7 days after holiday, otherwise normal\"\"\"\n",
    "    if date == 0:\n",
    "        return 'Holiday'\n",
    "    elif date >= -7 and date < 0 :\n",
    "        return '1 week Before Holiday'\n",
    "    elif date > 0 and date <= 7:\n",
    "        return '1 week After Holiday'\n",
    "    else:\n",
    "        return 'Normal'\n",
    "\n",
    "daily_sales['Holiday_Status'] = daily_sales['nearest_holiday_day'].apply(categorize_sales)\n",
    "daily_sales"
   ]
  },
  {
   "cell_type": "code",
   "execution_count": 17,
   "metadata": {},
   "outputs": [],
   "source": [
    "sales_by_holiday = daily_sales.groupby('Holiday_Status').agg(mean_qty=('total_qty', 'mean'),mean_amount=('total_amount', 'mean')).reset_index()\n",
    "sales_by_holiday.sort_values(by='mean_qty', ascending=False, inplace=True)"
   ]
  },
  {
   "cell_type": "code",
   "execution_count": 18,
   "metadata": {},
   "outputs": [
    {
     "data": {
      "application/vnd.plotly.v1+json": {
       "config": {
        "plotlyServerURL": "https://plot.ly"
       },
       "data": [
        {
         "marker": {
          "color": "#FFA0A4"
         },
         "name": "Mean Amount",
         "type": "bar",
         "x": [
          "Holiday",
          "1 week After Holiday",
          "1 week Before Holiday",
          "Normal"
         ],
         "xaxis": "x",
         "y": [
          1127206.4664788097,
          987614.4960020642,
          957368.3443402477,
          770508.5000620439
         ],
         "yaxis": "y"
        },
        {
         "name": "Mean Quantity",
         "type": "bar",
         "x": [
          "Holiday",
          "1 week After Holiday",
          "1 week Before Holiday",
          "Normal"
         ],
         "xaxis": "x2",
         "y": [
          1649.857142857143,
          1416.3333333333333,
          1380.8181818181818,
          1071.842105263158
         ],
         "yaxis": "y2"
        }
       ],
       "layout": {
        "annotations": [
         {
          "font": {
           "size": 16
          },
          "showarrow": false,
          "text": "mean Amount/Day by Holiday Status",
          "x": 0.225,
          "xanchor": "center",
          "xref": "paper",
          "y": 1,
          "yanchor": "bottom",
          "yref": "paper"
         },
         {
          "font": {
           "size": 16
          },
          "showarrow": false,
          "text": "mean Amount/Day Quantity by Holiday Status",
          "x": 0.775,
          "xanchor": "center",
          "xref": "paper",
          "y": 1,
          "yanchor": "bottom",
          "yref": "paper"
         }
        ],
        "height": 600,
        "template": {
         "data": {
          "bar": [
           {
            "error_x": {
             "color": "#2a3f5f"
            },
            "error_y": {
             "color": "#2a3f5f"
            },
            "marker": {
             "line": {
              "color": "#E5ECF6",
              "width": 0.5
             },
             "pattern": {
              "fillmode": "overlay",
              "size": 10,
              "solidity": 0.2
             }
            },
            "type": "bar"
           }
          ],
          "barpolar": [
           {
            "marker": {
             "line": {
              "color": "#E5ECF6",
              "width": 0.5
             },
             "pattern": {
              "fillmode": "overlay",
              "size": 10,
              "solidity": 0.2
             }
            },
            "type": "barpolar"
           }
          ],
          "carpet": [
           {
            "aaxis": {
             "endlinecolor": "#2a3f5f",
             "gridcolor": "white",
             "linecolor": "white",
             "minorgridcolor": "white",
             "startlinecolor": "#2a3f5f"
            },
            "baxis": {
             "endlinecolor": "#2a3f5f",
             "gridcolor": "white",
             "linecolor": "white",
             "minorgridcolor": "white",
             "startlinecolor": "#2a3f5f"
            },
            "type": "carpet"
           }
          ],
          "choropleth": [
           {
            "colorbar": {
             "outlinewidth": 0,
             "ticks": ""
            },
            "type": "choropleth"
           }
          ],
          "contour": [
           {
            "colorbar": {
             "outlinewidth": 0,
             "ticks": ""
            },
            "colorscale": [
             [
              0,
              "#0d0887"
             ],
             [
              0.1111111111111111,
              "#46039f"
             ],
             [
              0.2222222222222222,
              "#7201a8"
             ],
             [
              0.3333333333333333,
              "#9c179e"
             ],
             [
              0.4444444444444444,
              "#bd3786"
             ],
             [
              0.5555555555555556,
              "#d8576b"
             ],
             [
              0.6666666666666666,
              "#ed7953"
             ],
             [
              0.7777777777777778,
              "#fb9f3a"
             ],
             [
              0.8888888888888888,
              "#fdca26"
             ],
             [
              1,
              "#f0f921"
             ]
            ],
            "type": "contour"
           }
          ],
          "contourcarpet": [
           {
            "colorbar": {
             "outlinewidth": 0,
             "ticks": ""
            },
            "type": "contourcarpet"
           }
          ],
          "heatmap": [
           {
            "colorbar": {
             "outlinewidth": 0,
             "ticks": ""
            },
            "colorscale": [
             [
              0,
              "#0d0887"
             ],
             [
              0.1111111111111111,
              "#46039f"
             ],
             [
              0.2222222222222222,
              "#7201a8"
             ],
             [
              0.3333333333333333,
              "#9c179e"
             ],
             [
              0.4444444444444444,
              "#bd3786"
             ],
             [
              0.5555555555555556,
              "#d8576b"
             ],
             [
              0.6666666666666666,
              "#ed7953"
             ],
             [
              0.7777777777777778,
              "#fb9f3a"
             ],
             [
              0.8888888888888888,
              "#fdca26"
             ],
             [
              1,
              "#f0f921"
             ]
            ],
            "type": "heatmap"
           }
          ],
          "heatmapgl": [
           {
            "colorbar": {
             "outlinewidth": 0,
             "ticks": ""
            },
            "colorscale": [
             [
              0,
              "#0d0887"
             ],
             [
              0.1111111111111111,
              "#46039f"
             ],
             [
              0.2222222222222222,
              "#7201a8"
             ],
             [
              0.3333333333333333,
              "#9c179e"
             ],
             [
              0.4444444444444444,
              "#bd3786"
             ],
             [
              0.5555555555555556,
              "#d8576b"
             ],
             [
              0.6666666666666666,
              "#ed7953"
             ],
             [
              0.7777777777777778,
              "#fb9f3a"
             ],
             [
              0.8888888888888888,
              "#fdca26"
             ],
             [
              1,
              "#f0f921"
             ]
            ],
            "type": "heatmapgl"
           }
          ],
          "histogram": [
           {
            "marker": {
             "pattern": {
              "fillmode": "overlay",
              "size": 10,
              "solidity": 0.2
             }
            },
            "type": "histogram"
           }
          ],
          "histogram2d": [
           {
            "colorbar": {
             "outlinewidth": 0,
             "ticks": ""
            },
            "colorscale": [
             [
              0,
              "#0d0887"
             ],
             [
              0.1111111111111111,
              "#46039f"
             ],
             [
              0.2222222222222222,
              "#7201a8"
             ],
             [
              0.3333333333333333,
              "#9c179e"
             ],
             [
              0.4444444444444444,
              "#bd3786"
             ],
             [
              0.5555555555555556,
              "#d8576b"
             ],
             [
              0.6666666666666666,
              "#ed7953"
             ],
             [
              0.7777777777777778,
              "#fb9f3a"
             ],
             [
              0.8888888888888888,
              "#fdca26"
             ],
             [
              1,
              "#f0f921"
             ]
            ],
            "type": "histogram2d"
           }
          ],
          "histogram2dcontour": [
           {
            "colorbar": {
             "outlinewidth": 0,
             "ticks": ""
            },
            "colorscale": [
             [
              0,
              "#0d0887"
             ],
             [
              0.1111111111111111,
              "#46039f"
             ],
             [
              0.2222222222222222,
              "#7201a8"
             ],
             [
              0.3333333333333333,
              "#9c179e"
             ],
             [
              0.4444444444444444,
              "#bd3786"
             ],
             [
              0.5555555555555556,
              "#d8576b"
             ],
             [
              0.6666666666666666,
              "#ed7953"
             ],
             [
              0.7777777777777778,
              "#fb9f3a"
             ],
             [
              0.8888888888888888,
              "#fdca26"
             ],
             [
              1,
              "#f0f921"
             ]
            ],
            "type": "histogram2dcontour"
           }
          ],
          "mesh3d": [
           {
            "colorbar": {
             "outlinewidth": 0,
             "ticks": ""
            },
            "type": "mesh3d"
           }
          ],
          "parcoords": [
           {
            "line": {
             "colorbar": {
              "outlinewidth": 0,
              "ticks": ""
             }
            },
            "type": "parcoords"
           }
          ],
          "pie": [
           {
            "automargin": true,
            "type": "pie"
           }
          ],
          "scatter": [
           {
            "fillpattern": {
             "fillmode": "overlay",
             "size": 10,
             "solidity": 0.2
            },
            "type": "scatter"
           }
          ],
          "scatter3d": [
           {
            "line": {
             "colorbar": {
              "outlinewidth": 0,
              "ticks": ""
             }
            },
            "marker": {
             "colorbar": {
              "outlinewidth": 0,
              "ticks": ""
             }
            },
            "type": "scatter3d"
           }
          ],
          "scattercarpet": [
           {
            "marker": {
             "colorbar": {
              "outlinewidth": 0,
              "ticks": ""
             }
            },
            "type": "scattercarpet"
           }
          ],
          "scattergeo": [
           {
            "marker": {
             "colorbar": {
              "outlinewidth": 0,
              "ticks": ""
             }
            },
            "type": "scattergeo"
           }
          ],
          "scattergl": [
           {
            "marker": {
             "colorbar": {
              "outlinewidth": 0,
              "ticks": ""
             }
            },
            "type": "scattergl"
           }
          ],
          "scattermapbox": [
           {
            "marker": {
             "colorbar": {
              "outlinewidth": 0,
              "ticks": ""
             }
            },
            "type": "scattermapbox"
           }
          ],
          "scatterpolar": [
           {
            "marker": {
             "colorbar": {
              "outlinewidth": 0,
              "ticks": ""
             }
            },
            "type": "scatterpolar"
           }
          ],
          "scatterpolargl": [
           {
            "marker": {
             "colorbar": {
              "outlinewidth": 0,
              "ticks": ""
             }
            },
            "type": "scatterpolargl"
           }
          ],
          "scatterternary": [
           {
            "marker": {
             "colorbar": {
              "outlinewidth": 0,
              "ticks": ""
             }
            },
            "type": "scatterternary"
           }
          ],
          "surface": [
           {
            "colorbar": {
             "outlinewidth": 0,
             "ticks": ""
            },
            "colorscale": [
             [
              0,
              "#0d0887"
             ],
             [
              0.1111111111111111,
              "#46039f"
             ],
             [
              0.2222222222222222,
              "#7201a8"
             ],
             [
              0.3333333333333333,
              "#9c179e"
             ],
             [
              0.4444444444444444,
              "#bd3786"
             ],
             [
              0.5555555555555556,
              "#d8576b"
             ],
             [
              0.6666666666666666,
              "#ed7953"
             ],
             [
              0.7777777777777778,
              "#fb9f3a"
             ],
             [
              0.8888888888888888,
              "#fdca26"
             ],
             [
              1,
              "#f0f921"
             ]
            ],
            "type": "surface"
           }
          ],
          "table": [
           {
            "cells": {
             "fill": {
              "color": "#EBF0F8"
             },
             "line": {
              "color": "white"
             }
            },
            "header": {
             "fill": {
              "color": "#C8D4E3"
             },
             "line": {
              "color": "white"
             }
            },
            "type": "table"
           }
          ]
         },
         "layout": {
          "annotationdefaults": {
           "arrowcolor": "#2a3f5f",
           "arrowhead": 0,
           "arrowwidth": 1
          },
          "autotypenumbers": "strict",
          "coloraxis": {
           "colorbar": {
            "outlinewidth": 0,
            "ticks": ""
           }
          },
          "colorscale": {
           "diverging": [
            [
             0,
             "#8e0152"
            ],
            [
             0.1,
             "#c51b7d"
            ],
            [
             0.2,
             "#de77ae"
            ],
            [
             0.3,
             "#f1b6da"
            ],
            [
             0.4,
             "#fde0ef"
            ],
            [
             0.5,
             "#f7f7f7"
            ],
            [
             0.6,
             "#e6f5d0"
            ],
            [
             0.7,
             "#b8e186"
            ],
            [
             0.8,
             "#7fbc41"
            ],
            [
             0.9,
             "#4d9221"
            ],
            [
             1,
             "#276419"
            ]
           ],
           "sequential": [
            [
             0,
             "#0d0887"
            ],
            [
             0.1111111111111111,
             "#46039f"
            ],
            [
             0.2222222222222222,
             "#7201a8"
            ],
            [
             0.3333333333333333,
             "#9c179e"
            ],
            [
             0.4444444444444444,
             "#bd3786"
            ],
            [
             0.5555555555555556,
             "#d8576b"
            ],
            [
             0.6666666666666666,
             "#ed7953"
            ],
            [
             0.7777777777777778,
             "#fb9f3a"
            ],
            [
             0.8888888888888888,
             "#fdca26"
            ],
            [
             1,
             "#f0f921"
            ]
           ],
           "sequentialminus": [
            [
             0,
             "#0d0887"
            ],
            [
             0.1111111111111111,
             "#46039f"
            ],
            [
             0.2222222222222222,
             "#7201a8"
            ],
            [
             0.3333333333333333,
             "#9c179e"
            ],
            [
             0.4444444444444444,
             "#bd3786"
            ],
            [
             0.5555555555555556,
             "#d8576b"
            ],
            [
             0.6666666666666666,
             "#ed7953"
            ],
            [
             0.7777777777777778,
             "#fb9f3a"
            ],
            [
             0.8888888888888888,
             "#fdca26"
            ],
            [
             1,
             "#f0f921"
            ]
           ]
          },
          "colorway": [
           "#636efa",
           "#EF553B",
           "#00cc96",
           "#ab63fa",
           "#FFA15A",
           "#19d3f3",
           "#FF6692",
           "#B6E880",
           "#FF97FF",
           "#FECB52"
          ],
          "font": {
           "color": "#2a3f5f"
          },
          "geo": {
           "bgcolor": "white",
           "lakecolor": "white",
           "landcolor": "#E5ECF6",
           "showlakes": true,
           "showland": true,
           "subunitcolor": "white"
          },
          "hoverlabel": {
           "align": "left"
          },
          "hovermode": "closest",
          "mapbox": {
           "style": "light"
          },
          "paper_bgcolor": "white",
          "plot_bgcolor": "#E5ECF6",
          "polar": {
           "angularaxis": {
            "gridcolor": "white",
            "linecolor": "white",
            "ticks": ""
           },
           "bgcolor": "#E5ECF6",
           "radialaxis": {
            "gridcolor": "white",
            "linecolor": "white",
            "ticks": ""
           }
          },
          "scene": {
           "xaxis": {
            "backgroundcolor": "#E5ECF6",
            "gridcolor": "white",
            "gridwidth": 2,
            "linecolor": "white",
            "showbackground": true,
            "ticks": "",
            "zerolinecolor": "white"
           },
           "yaxis": {
            "backgroundcolor": "#E5ECF6",
            "gridcolor": "white",
            "gridwidth": 2,
            "linecolor": "white",
            "showbackground": true,
            "ticks": "",
            "zerolinecolor": "white"
           },
           "zaxis": {
            "backgroundcolor": "#E5ECF6",
            "gridcolor": "white",
            "gridwidth": 2,
            "linecolor": "white",
            "showbackground": true,
            "ticks": "",
            "zerolinecolor": "white"
           }
          },
          "shapedefaults": {
           "line": {
            "color": "#2a3f5f"
           }
          },
          "ternary": {
           "aaxis": {
            "gridcolor": "white",
            "linecolor": "white",
            "ticks": ""
           },
           "baxis": {
            "gridcolor": "white",
            "linecolor": "white",
            "ticks": ""
           },
           "bgcolor": "#E5ECF6",
           "caxis": {
            "gridcolor": "white",
            "linecolor": "white",
            "ticks": ""
           }
          },
          "title": {
           "x": 0.05
          },
          "xaxis": {
           "automargin": true,
           "gridcolor": "white",
           "linecolor": "white",
           "ticks": "",
           "title": {
            "standoff": 15
           },
           "zerolinecolor": "white",
           "zerolinewidth": 2
          },
          "yaxis": {
           "automargin": true,
           "gridcolor": "white",
           "linecolor": "white",
           "ticks": "",
           "title": {
            "standoff": 15
           },
           "zerolinecolor": "white",
           "zerolinewidth": 2
          }
         }
        },
        "title": {
         "text": "Sales Performance: Normal, Before, During, and After Holidays"
        },
        "xaxis": {
         "anchor": "y",
         "domain": [
          0,
          0.45
         ]
        },
        "xaxis2": {
         "anchor": "y2",
         "domain": [
          0.55,
          1
         ]
        },
        "yaxis": {
         "anchor": "x",
         "domain": [
          0,
          1
         ]
        },
        "yaxis2": {
         "anchor": "x2",
         "domain": [
          0,
          1
         ]
        }
       }
      }
     },
     "metadata": {},
     "output_type": "display_data"
    }
   ],
   "source": [
    "# Create a subplot figure with 1 row and 2 columns\n",
    "fig = make_subplots(rows=1, cols=2, subplot_titles=(\"mean Amount/Day by Holiday Status\", \"mean Amount/Day Quantity by Holiday Status\"))\n",
    "\n",
    "# Add the first bar plot for 'total_amount' in the first column\n",
    "fig.add_trace(\n",
    "    go.Bar(\n",
    "        x=sales_by_holiday['Holiday_Status'],\n",
    "        y=sales_by_holiday['mean_amount'],\n",
    "        name='Mean Amount',\n",
    "        marker_color='#FFA0A4'  # Color for total_amount bars\n",
    "    ),\n",
    "    row=1, col=1\n",
    ")\n",
    "\n",
    "# Add the second bar plot for 'total_qty' in the second column\n",
    "fig.add_trace(\n",
    "    go.Bar(\n",
    "        x=sales_by_holiday['Holiday_Status'],\n",
    "        y=sales_by_holiday['mean_qty'],\n",
    "        name='Mean Quantity'\n",
    "    ),\n",
    "    row=1, col=2\n",
    ")\n",
    "# Update layout\n",
    "fig.update_layout(\n",
    "    title='Sales Performance: Normal, Before, During, and After Holidays',\n",
    "    height=600\n",
    ")\n",
    "\n",
    "# Show the combined plot\n",
    "fig.show()\n"
   ]
  },
  {
   "cell_type": "markdown",
   "metadata": {},
   "source": [
    "During holidays, people tend to shop the most. The period after holidays ranks second, followed by the period before holidays. Therefore, it is advisable to prepare e-commerce inventory at least one week before the holiday period.\n",
    "\n",
    "ช่วงวันหยุดเป็นช่วงที่คนมาซื้อของมากที่สุด หลังจากวันหยุดเป็นอันดับที่ 2 ก่อนวันหยุดเป็นอันดับที่ 3 ฉะนั้นควรเตรียมสินค้าใน e-commerce ก่อนถึงช่วงใกล้วันหยุด 1 อาทิตย์"
   ]
  },
  {
   "cell_type": "markdown",
   "metadata": {},
   "source": [
    "### Saling by day_name"
   ]
  },
  {
   "cell_type": "code",
   "execution_count": 19,
   "metadata": {},
   "outputs": [],
   "source": [
    "daily_sales['Day_of_Week'] = daily_sales['Date'].dt.day_name()\n",
    "sales_by_days = daily_sales.groupby('Day_of_Week').agg(mean_qty=('total_qty', 'mean'),mean_amount=('total_amount', 'mean')).reset_index()\n",
    "week_order = ['Sunday', 'Monday', 'Tuesday', 'Wednesday', 'Thursday', 'Friday', 'Saturday']\n",
    "\n",
    "# Set the 'day_name' column to have this categorical order\n",
    "sales_by_days['Day_of_Week'] = pd.Categorical(sales_by_days['Day_of_Week'], categories=week_order, ordered=True)\n",
    "# Sort the DataFrame by the 'day_name' column\n",
    "sales_by_days = sales_by_days.sort_values('Day_of_Week').reset_index(drop=True)"
   ]
  },
  {
   "cell_type": "code",
   "execution_count": 20,
   "metadata": {},
   "outputs": [
    {
     "data": {
      "application/vnd.plotly.v1+json": {
       "config": {
        "plotlyServerURL": "https://plot.ly"
       },
       "data": [
        {
         "marker": {
          "color": "#FFA0A4"
         },
         "name": "Mean Amount",
         "type": "bar",
         "x": [
          "Sunday",
          "Monday",
          "Tuesday",
          "Wednesday",
          "Thursday",
          "Friday",
          "Saturday"
         ],
         "xaxis": "x",
         "y": [
          964065.6779467401,
          908996.7773288233,
          923161.2337440217,
          904257.2819676158,
          827053.618748512,
          867700.5848898204,
          907427.8828547994
         ],
         "yaxis": "y"
        },
        {
         "name": "Mean Quantity",
         "type": "bar",
         "x": [
          "Sunday",
          "Monday",
          "Tuesday",
          "Wednesday",
          "Thursday",
          "Friday",
          "Saturday"
         ],
         "xaxis": "x2",
         "y": [
          1371.2307692307693,
          1289.6923076923076,
          1311.3076923076924,
          1289.5384615384614,
          1186.5384615384614,
          1228.923076923077,
          1295.7692307692307
         ],
         "yaxis": "y2"
        }
       ],
       "layout": {
        "annotations": [
         {
          "font": {
           "size": 16
          },
          "showarrow": false,
          "text": "Mean Amount/Day by Holiday Status",
          "x": 0.225,
          "xanchor": "center",
          "xref": "paper",
          "y": 1,
          "yanchor": "bottom",
          "yref": "paper"
         },
         {
          "font": {
           "size": 16
          },
          "showarrow": false,
          "text": "Mean Quantity/Day by Holiday Status",
          "x": 0.775,
          "xanchor": "center",
          "xref": "paper",
          "y": 1,
          "yanchor": "bottom",
          "yref": "paper"
         }
        ],
        "height": 600,
        "template": {
         "data": {
          "bar": [
           {
            "error_x": {
             "color": "#2a3f5f"
            },
            "error_y": {
             "color": "#2a3f5f"
            },
            "marker": {
             "line": {
              "color": "#E5ECF6",
              "width": 0.5
             },
             "pattern": {
              "fillmode": "overlay",
              "size": 10,
              "solidity": 0.2
             }
            },
            "type": "bar"
           }
          ],
          "barpolar": [
           {
            "marker": {
             "line": {
              "color": "#E5ECF6",
              "width": 0.5
             },
             "pattern": {
              "fillmode": "overlay",
              "size": 10,
              "solidity": 0.2
             }
            },
            "type": "barpolar"
           }
          ],
          "carpet": [
           {
            "aaxis": {
             "endlinecolor": "#2a3f5f",
             "gridcolor": "white",
             "linecolor": "white",
             "minorgridcolor": "white",
             "startlinecolor": "#2a3f5f"
            },
            "baxis": {
             "endlinecolor": "#2a3f5f",
             "gridcolor": "white",
             "linecolor": "white",
             "minorgridcolor": "white",
             "startlinecolor": "#2a3f5f"
            },
            "type": "carpet"
           }
          ],
          "choropleth": [
           {
            "colorbar": {
             "outlinewidth": 0,
             "ticks": ""
            },
            "type": "choropleth"
           }
          ],
          "contour": [
           {
            "colorbar": {
             "outlinewidth": 0,
             "ticks": ""
            },
            "colorscale": [
             [
              0,
              "#0d0887"
             ],
             [
              0.1111111111111111,
              "#46039f"
             ],
             [
              0.2222222222222222,
              "#7201a8"
             ],
             [
              0.3333333333333333,
              "#9c179e"
             ],
             [
              0.4444444444444444,
              "#bd3786"
             ],
             [
              0.5555555555555556,
              "#d8576b"
             ],
             [
              0.6666666666666666,
              "#ed7953"
             ],
             [
              0.7777777777777778,
              "#fb9f3a"
             ],
             [
              0.8888888888888888,
              "#fdca26"
             ],
             [
              1,
              "#f0f921"
             ]
            ],
            "type": "contour"
           }
          ],
          "contourcarpet": [
           {
            "colorbar": {
             "outlinewidth": 0,
             "ticks": ""
            },
            "type": "contourcarpet"
           }
          ],
          "heatmap": [
           {
            "colorbar": {
             "outlinewidth": 0,
             "ticks": ""
            },
            "colorscale": [
             [
              0,
              "#0d0887"
             ],
             [
              0.1111111111111111,
              "#46039f"
             ],
             [
              0.2222222222222222,
              "#7201a8"
             ],
             [
              0.3333333333333333,
              "#9c179e"
             ],
             [
              0.4444444444444444,
              "#bd3786"
             ],
             [
              0.5555555555555556,
              "#d8576b"
             ],
             [
              0.6666666666666666,
              "#ed7953"
             ],
             [
              0.7777777777777778,
              "#fb9f3a"
             ],
             [
              0.8888888888888888,
              "#fdca26"
             ],
             [
              1,
              "#f0f921"
             ]
            ],
            "type": "heatmap"
           }
          ],
          "heatmapgl": [
           {
            "colorbar": {
             "outlinewidth": 0,
             "ticks": ""
            },
            "colorscale": [
             [
              0,
              "#0d0887"
             ],
             [
              0.1111111111111111,
              "#46039f"
             ],
             [
              0.2222222222222222,
              "#7201a8"
             ],
             [
              0.3333333333333333,
              "#9c179e"
             ],
             [
              0.4444444444444444,
              "#bd3786"
             ],
             [
              0.5555555555555556,
              "#d8576b"
             ],
             [
              0.6666666666666666,
              "#ed7953"
             ],
             [
              0.7777777777777778,
              "#fb9f3a"
             ],
             [
              0.8888888888888888,
              "#fdca26"
             ],
             [
              1,
              "#f0f921"
             ]
            ],
            "type": "heatmapgl"
           }
          ],
          "histogram": [
           {
            "marker": {
             "pattern": {
              "fillmode": "overlay",
              "size": 10,
              "solidity": 0.2
             }
            },
            "type": "histogram"
           }
          ],
          "histogram2d": [
           {
            "colorbar": {
             "outlinewidth": 0,
             "ticks": ""
            },
            "colorscale": [
             [
              0,
              "#0d0887"
             ],
             [
              0.1111111111111111,
              "#46039f"
             ],
             [
              0.2222222222222222,
              "#7201a8"
             ],
             [
              0.3333333333333333,
              "#9c179e"
             ],
             [
              0.4444444444444444,
              "#bd3786"
             ],
             [
              0.5555555555555556,
              "#d8576b"
             ],
             [
              0.6666666666666666,
              "#ed7953"
             ],
             [
              0.7777777777777778,
              "#fb9f3a"
             ],
             [
              0.8888888888888888,
              "#fdca26"
             ],
             [
              1,
              "#f0f921"
             ]
            ],
            "type": "histogram2d"
           }
          ],
          "histogram2dcontour": [
           {
            "colorbar": {
             "outlinewidth": 0,
             "ticks": ""
            },
            "colorscale": [
             [
              0,
              "#0d0887"
             ],
             [
              0.1111111111111111,
              "#46039f"
             ],
             [
              0.2222222222222222,
              "#7201a8"
             ],
             [
              0.3333333333333333,
              "#9c179e"
             ],
             [
              0.4444444444444444,
              "#bd3786"
             ],
             [
              0.5555555555555556,
              "#d8576b"
             ],
             [
              0.6666666666666666,
              "#ed7953"
             ],
             [
              0.7777777777777778,
              "#fb9f3a"
             ],
             [
              0.8888888888888888,
              "#fdca26"
             ],
             [
              1,
              "#f0f921"
             ]
            ],
            "type": "histogram2dcontour"
           }
          ],
          "mesh3d": [
           {
            "colorbar": {
             "outlinewidth": 0,
             "ticks": ""
            },
            "type": "mesh3d"
           }
          ],
          "parcoords": [
           {
            "line": {
             "colorbar": {
              "outlinewidth": 0,
              "ticks": ""
             }
            },
            "type": "parcoords"
           }
          ],
          "pie": [
           {
            "automargin": true,
            "type": "pie"
           }
          ],
          "scatter": [
           {
            "fillpattern": {
             "fillmode": "overlay",
             "size": 10,
             "solidity": 0.2
            },
            "type": "scatter"
           }
          ],
          "scatter3d": [
           {
            "line": {
             "colorbar": {
              "outlinewidth": 0,
              "ticks": ""
             }
            },
            "marker": {
             "colorbar": {
              "outlinewidth": 0,
              "ticks": ""
             }
            },
            "type": "scatter3d"
           }
          ],
          "scattercarpet": [
           {
            "marker": {
             "colorbar": {
              "outlinewidth": 0,
              "ticks": ""
             }
            },
            "type": "scattercarpet"
           }
          ],
          "scattergeo": [
           {
            "marker": {
             "colorbar": {
              "outlinewidth": 0,
              "ticks": ""
             }
            },
            "type": "scattergeo"
           }
          ],
          "scattergl": [
           {
            "marker": {
             "colorbar": {
              "outlinewidth": 0,
              "ticks": ""
             }
            },
            "type": "scattergl"
           }
          ],
          "scattermapbox": [
           {
            "marker": {
             "colorbar": {
              "outlinewidth": 0,
              "ticks": ""
             }
            },
            "type": "scattermapbox"
           }
          ],
          "scatterpolar": [
           {
            "marker": {
             "colorbar": {
              "outlinewidth": 0,
              "ticks": ""
             }
            },
            "type": "scatterpolar"
           }
          ],
          "scatterpolargl": [
           {
            "marker": {
             "colorbar": {
              "outlinewidth": 0,
              "ticks": ""
             }
            },
            "type": "scatterpolargl"
           }
          ],
          "scatterternary": [
           {
            "marker": {
             "colorbar": {
              "outlinewidth": 0,
              "ticks": ""
             }
            },
            "type": "scatterternary"
           }
          ],
          "surface": [
           {
            "colorbar": {
             "outlinewidth": 0,
             "ticks": ""
            },
            "colorscale": [
             [
              0,
              "#0d0887"
             ],
             [
              0.1111111111111111,
              "#46039f"
             ],
             [
              0.2222222222222222,
              "#7201a8"
             ],
             [
              0.3333333333333333,
              "#9c179e"
             ],
             [
              0.4444444444444444,
              "#bd3786"
             ],
             [
              0.5555555555555556,
              "#d8576b"
             ],
             [
              0.6666666666666666,
              "#ed7953"
             ],
             [
              0.7777777777777778,
              "#fb9f3a"
             ],
             [
              0.8888888888888888,
              "#fdca26"
             ],
             [
              1,
              "#f0f921"
             ]
            ],
            "type": "surface"
           }
          ],
          "table": [
           {
            "cells": {
             "fill": {
              "color": "#EBF0F8"
             },
             "line": {
              "color": "white"
             }
            },
            "header": {
             "fill": {
              "color": "#C8D4E3"
             },
             "line": {
              "color": "white"
             }
            },
            "type": "table"
           }
          ]
         },
         "layout": {
          "annotationdefaults": {
           "arrowcolor": "#2a3f5f",
           "arrowhead": 0,
           "arrowwidth": 1
          },
          "autotypenumbers": "strict",
          "coloraxis": {
           "colorbar": {
            "outlinewidth": 0,
            "ticks": ""
           }
          },
          "colorscale": {
           "diverging": [
            [
             0,
             "#8e0152"
            ],
            [
             0.1,
             "#c51b7d"
            ],
            [
             0.2,
             "#de77ae"
            ],
            [
             0.3,
             "#f1b6da"
            ],
            [
             0.4,
             "#fde0ef"
            ],
            [
             0.5,
             "#f7f7f7"
            ],
            [
             0.6,
             "#e6f5d0"
            ],
            [
             0.7,
             "#b8e186"
            ],
            [
             0.8,
             "#7fbc41"
            ],
            [
             0.9,
             "#4d9221"
            ],
            [
             1,
             "#276419"
            ]
           ],
           "sequential": [
            [
             0,
             "#0d0887"
            ],
            [
             0.1111111111111111,
             "#46039f"
            ],
            [
             0.2222222222222222,
             "#7201a8"
            ],
            [
             0.3333333333333333,
             "#9c179e"
            ],
            [
             0.4444444444444444,
             "#bd3786"
            ],
            [
             0.5555555555555556,
             "#d8576b"
            ],
            [
             0.6666666666666666,
             "#ed7953"
            ],
            [
             0.7777777777777778,
             "#fb9f3a"
            ],
            [
             0.8888888888888888,
             "#fdca26"
            ],
            [
             1,
             "#f0f921"
            ]
           ],
           "sequentialminus": [
            [
             0,
             "#0d0887"
            ],
            [
             0.1111111111111111,
             "#46039f"
            ],
            [
             0.2222222222222222,
             "#7201a8"
            ],
            [
             0.3333333333333333,
             "#9c179e"
            ],
            [
             0.4444444444444444,
             "#bd3786"
            ],
            [
             0.5555555555555556,
             "#d8576b"
            ],
            [
             0.6666666666666666,
             "#ed7953"
            ],
            [
             0.7777777777777778,
             "#fb9f3a"
            ],
            [
             0.8888888888888888,
             "#fdca26"
            ],
            [
             1,
             "#f0f921"
            ]
           ]
          },
          "colorway": [
           "#636efa",
           "#EF553B",
           "#00cc96",
           "#ab63fa",
           "#FFA15A",
           "#19d3f3",
           "#FF6692",
           "#B6E880",
           "#FF97FF",
           "#FECB52"
          ],
          "font": {
           "color": "#2a3f5f"
          },
          "geo": {
           "bgcolor": "white",
           "lakecolor": "white",
           "landcolor": "#E5ECF6",
           "showlakes": true,
           "showland": true,
           "subunitcolor": "white"
          },
          "hoverlabel": {
           "align": "left"
          },
          "hovermode": "closest",
          "mapbox": {
           "style": "light"
          },
          "paper_bgcolor": "white",
          "plot_bgcolor": "#E5ECF6",
          "polar": {
           "angularaxis": {
            "gridcolor": "white",
            "linecolor": "white",
            "ticks": ""
           },
           "bgcolor": "#E5ECF6",
           "radialaxis": {
            "gridcolor": "white",
            "linecolor": "white",
            "ticks": ""
           }
          },
          "scene": {
           "xaxis": {
            "backgroundcolor": "#E5ECF6",
            "gridcolor": "white",
            "gridwidth": 2,
            "linecolor": "white",
            "showbackground": true,
            "ticks": "",
            "zerolinecolor": "white"
           },
           "yaxis": {
            "backgroundcolor": "#E5ECF6",
            "gridcolor": "white",
            "gridwidth": 2,
            "linecolor": "white",
            "showbackground": true,
            "ticks": "",
            "zerolinecolor": "white"
           },
           "zaxis": {
            "backgroundcolor": "#E5ECF6",
            "gridcolor": "white",
            "gridwidth": 2,
            "linecolor": "white",
            "showbackground": true,
            "ticks": "",
            "zerolinecolor": "white"
           }
          },
          "shapedefaults": {
           "line": {
            "color": "#2a3f5f"
           }
          },
          "ternary": {
           "aaxis": {
            "gridcolor": "white",
            "linecolor": "white",
            "ticks": ""
           },
           "baxis": {
            "gridcolor": "white",
            "linecolor": "white",
            "ticks": ""
           },
           "bgcolor": "#E5ECF6",
           "caxis": {
            "gridcolor": "white",
            "linecolor": "white",
            "ticks": ""
           }
          },
          "title": {
           "x": 0.05
          },
          "xaxis": {
           "automargin": true,
           "gridcolor": "white",
           "linecolor": "white",
           "ticks": "",
           "title": {
            "standoff": 15
           },
           "zerolinecolor": "white",
           "zerolinewidth": 2
          },
          "yaxis": {
           "automargin": true,
           "gridcolor": "white",
           "linecolor": "white",
           "ticks": "",
           "title": {
            "standoff": 15
           },
           "zerolinecolor": "white",
           "zerolinewidth": 2
          }
         }
        },
        "title": {
         "text": "Sales Performance: Normal, Before, During, and After Holidays"
        },
        "xaxis": {
         "anchor": "y",
         "domain": [
          0,
          0.45
         ]
        },
        "xaxis2": {
         "anchor": "y2",
         "domain": [
          0.55,
          1
         ]
        },
        "yaxis": {
         "anchor": "x",
         "domain": [
          0,
          1
         ]
        },
        "yaxis2": {
         "anchor": "x2",
         "domain": [
          0,
          1
         ]
        }
       }
      }
     },
     "metadata": {},
     "output_type": "display_data"
    }
   ],
   "source": [
    "# Create a subplot figure with 1 row and 2 columns\n",
    "fig = make_subplots(rows=1, cols=2, subplot_titles=(\"Mean Amount/Day by Holiday Status\", \"Mean Quantity/Day by Holiday Status\"))\n",
    "\n",
    "# Add the first bar plot for 'total_amount' in the first column\n",
    "fig.add_trace(\n",
    "    go.Bar(\n",
    "        x=sales_by_days['Day_of_Week'],\n",
    "        y=sales_by_days['mean_amount'],\n",
    "        name='Mean Amount',\n",
    "        marker_color='#FFA0A4'  # Color for total_amount bars\n",
    "    ),\n",
    "    row=1, col=1\n",
    ")\n",
    "\n",
    "# Add the second bar plot for 'total_qty' in the second column\n",
    "fig.add_trace(\n",
    "    go.Bar(\n",
    "        x=sales_by_days['Day_of_Week'],\n",
    "        y=sales_by_days['mean_qty'],\n",
    "        name='Mean Quantity'\n",
    "    ),\n",
    "    row=1, col=2\n",
    ")\n",
    "\n",
    "# Update layout\n",
    "fig.update_layout(\n",
    "    title='Sales Performance: Normal, Before, During, and After Holidays',\n",
    "    height=600\n",
    ")\n",
    "\n",
    "# Show the combined plot\n",
    "fig.show()"
   ]
  },
  {
   "cell_type": "markdown",
   "metadata": {},
   "source": [
    "During holidays, the highest number of products are sold, and the highest sales amount is achieved. On the other hand, Thursday has the lowest number of products sold and the lowest sales amount."
   ]
  },
  {
   "cell_type": "markdown",
   "metadata": {},
   "source": [
    "### Saling price amount per count of order"
   ]
  },
  {
   "cell_type": "code",
   "execution_count": 21,
   "metadata": {},
   "outputs": [
    {
     "data": {
      "image/png": "[encoded data removed]",
      "text/plain": [
       "<Figure size 800x500 with 1 Axes>"
      ]
     },
     "metadata": {},
     "output_type": "display_data"
    }
   ],
   "source": [
    "fig, my_ax = plt.subplots(figsize=(8,5))\n",
    "\n",
    "sns.histplot(data = Amazon_df['Amount'], ax=my_ax, binwidth=100, kde=True)\n",
    "plt.grid(linestyle='--',color='#000000')\n",
    "plt.title(\"Distribution of Sales Amount across Count of Orders\")\n",
    "plt.tight_layout()"
   ]
  },
  {
   "cell_type": "markdown",
   "metadata": {},
   "source": [
    "The most suitable price range is between 400-600 Rupees.\n"
   ]
  },
  {
   "cell_type": "markdown",
   "metadata": {},
   "source": [
    "### top 5 most selling product in Amazon"
   ]
  },
  {
   "cell_type": "code",
   "execution_count": 22,
   "metadata": {},
   "outputs": [
    {
     "data": {
      "text/html": [
       "<div>\n",
       "<style scoped>\n",
       "    .dataframe tbody tr th:only-of-type {\n",
       "        vertical-align: middle;\n",
       "    }\n",
       "\n",
       "    .dataframe tbody tr th {\n",
       "        vertical-align: top;\n",
       "    }\n",
       "\n",
       "    .dataframe thead th {\n",
       "        text-align: right;\n",
       "    }\n",
       "</style>\n",
       "<table border=\"1\" class=\"dataframe\">\n",
       "  <thead>\n",
       "    <tr style=\"text-align: right;\">\n",
       "      <th></th>\n",
       "      <th>Amount</th>\n",
       "    </tr>\n",
       "    <tr>\n",
       "      <th>Category</th>\n",
       "      <th></th>\n",
       "    </tr>\n",
       "  </thead>\n",
       "  <tbody>\n",
       "    <tr>\n",
       "      <th>Set</th>\n",
       "      <td>3.949656e+07</td>\n",
       "    </tr>\n",
       "    <tr>\n",
       "      <th>kurta</th>\n",
       "      <td>2.320868e+07</td>\n",
       "    </tr>\n",
       "    <tr>\n",
       "      <th>Western Dress</th>\n",
       "      <td>1.191052e+07</td>\n",
       "    </tr>\n",
       "    <tr>\n",
       "      <th>Top</th>\n",
       "      <td>5.687990e+06</td>\n",
       "    </tr>\n",
       "    <tr>\n",
       "      <th>Ethnic Dress</th>\n",
       "      <td>8.448830e+05</td>\n",
       "    </tr>\n",
       "  </tbody>\n",
       "</table>\n",
       "</div>"
      ],
      "text/plain": [
       "                     Amount\n",
       "Category                   \n",
       "Set            3.949656e+07\n",
       "kurta          2.320868e+07\n",
       "Western Dress  1.191052e+07\n",
       "Top            5.687990e+06\n",
       "Ethnic Dress   8.448830e+05"
      ]
     },
     "execution_count": 22,
     "metadata": {},
     "output_type": "execute_result"
    }
   ],
   "source": [
    "Top5_Trending_product=Amazon_df.groupby('Category')['Amount'].sum().to_frame().sort_values(by=['Amount'],ascending=False).head(5)\n",
    "Top5_Trending_product"
   ]
  },
  {
   "cell_type": "code",
   "execution_count": 23,
   "metadata": {},
   "outputs": [
    {
     "data": {
      "image/png": "[encoded data removed]",
      "text/plain": [
       "<Figure size 640x480 with 1 Axes>"
      ]
     },
     "metadata": {},
     "output_type": "display_data"
    }
   ],
   "source": [
    "Top5_Trending_product.plot(kind='bar',color='#b01919')\n",
    "plt.title('Total Amount by Category', fontsize=18, weight='bold')\n",
    "plt.ylabel('Total Amount (in millions)', fontsize=14)\n",
    "plt.grid(True, axis='y', linestyle='--', alpha=0.7)\n",
    "plt.xticks(rotation=45, ha=\"right\")\n",
    "plt.legend()\n",
    "plt.tight_layout()\n",
    "plt.show()"
   ]
  },
  {
   "cell_type": "markdown",
   "metadata": {},
   "source": [
    "The five best-selling products are Set, Kurta, Western Dress, Top, and Ethnic Dress. Therefore, it is essential to consistently keep these items well-stocked in the warehouse."
   ]
  },
  {
   "cell_type": "markdown",
   "metadata": {},
   "source": [
    "### Top 5 cities order from Amazon"
   ]
  },
  {
   "cell_type": "code",
   "execution_count": 24,
   "metadata": {},
   "outputs": [],
   "source": [
    "Top5_cities_orderfrom_Amazon=Amazon_df.groupby('ship-city')['Amount'].sum().to_frame().sort_values(by=['Amount'],ascending=False).head(5)"
   ]
  },
  {
   "cell_type": "code",
   "execution_count": 25,
   "metadata": {},
   "outputs": [
    {
     "data": {
      "text/html": [
       "<div>\n",
       "<style scoped>\n",
       "    .dataframe tbody tr th:only-of-type {\n",
       "        vertical-align: middle;\n",
       "    }\n",
       "\n",
       "    .dataframe tbody tr th {\n",
       "        vertical-align: top;\n",
       "    }\n",
       "\n",
       "    .dataframe thead th {\n",
       "        text-align: right;\n",
       "    }\n",
       "</style>\n",
       "<table border=\"1\" class=\"dataframe\">\n",
       "  <thead>\n",
       "    <tr style=\"text-align: right;\">\n",
       "      <th></th>\n",
       "      <th>Amount</th>\n",
       "    </tr>\n",
       "    <tr>\n",
       "      <th>ship-city</th>\n",
       "      <th></th>\n",
       "    </tr>\n",
       "  </thead>\n",
       "  <tbody>\n",
       "    <tr>\n",
       "      <th>BENGALURU</th>\n",
       "      <td>7.069377e+06</td>\n",
       "    </tr>\n",
       "    <tr>\n",
       "      <th>HYDERABAD</th>\n",
       "      <td>5.134185e+06</td>\n",
       "    </tr>\n",
       "    <tr>\n",
       "      <th>MUMBAI</th>\n",
       "      <td>3.819661e+06</td>\n",
       "    </tr>\n",
       "    <tr>\n",
       "      <th>NEW DELHI</th>\n",
       "      <td>3.794739e+06</td>\n",
       "    </tr>\n",
       "    <tr>\n",
       "      <th>CHENNAI</th>\n",
       "      <td>3.232176e+06</td>\n",
       "    </tr>\n",
       "  </tbody>\n",
       "</table>\n",
       "</div>"
      ],
      "text/plain": [
       "                 Amount\n",
       "ship-city              \n",
       "BENGALURU  7.069377e+06\n",
       "HYDERABAD  5.134185e+06\n",
       "MUMBAI     3.819661e+06\n",
       "NEW DELHI  3.794739e+06\n",
       "CHENNAI    3.232176e+06"
      ]
     },
     "execution_count": 25,
     "metadata": {},
     "output_type": "execute_result"
    }
   ],
   "source": [
    "Top5_cities_orderfrom_Amazon"
   ]
  },
  {
   "cell_type": "code",
   "execution_count": 26,
   "metadata": {},
   "outputs": [
    {
     "data": {
      "image/png": "[encoded data removed]",
      "text/plain": [
       "<Figure size 640x480 with 1 Axes>"
      ]
     },
     "metadata": {},
     "output_type": "display_data"
    }
   ],
   "source": [
    "Top5_cities_orderfrom_Amazon.plot(kind='bar',color='#a3fafb')\n",
    "plt.title('Top 5 cities order from Amazon', fontsize=18, weight='bold')\n",
    "plt.ylabel('Total Amount (in millions)', fontsize=14)\n",
    "plt.grid(True, axis='y', linestyle='--',color='#000000', alpha=0.7)\n",
    "plt.xticks(rotation=45, ha=\"right\")\n",
    "plt.legend()\n",
    "plt.tight_layout()\n",
    "plt.show()"
   ]
  },
  {
   "cell_type": "markdown",
   "metadata": {},
   "source": [
    "The five cities that frequently order our products are Bengaluru, Hyderabad, Mumbai, New Delhi, and Chennai. It would be wise to consider setting up distribution centers in these areas."
   ]
  },
  {
   "cell_type": "code",
   "execution_count": null,
   "metadata": {},
   "outputs": [],
   "source": []
  },
  {
   "cell_type": "code",
   "execution_count": 27,
   "metadata": {},
   "outputs": [],
   "source": [
    "Total_Qty_ordered = Amazon_df['Qty'].sum()"
   ]
  },
  {
   "cell_type": "code",
   "execution_count": 28,
   "metadata": {},
   "outputs": [],
   "source": [
    "Total_Sales = Amazon_df['Amount'].sum()"
   ]
  },
  {
   "cell_type": "code",
   "execution_count": 29,
   "metadata": {},
   "outputs": [],
   "source": [
    "Sales_Order_wise = Amazon_df.groupby('Order ID').agg({'Qty': 'count', 'Amount': 'sum', 'Status': 'sum', 'Fulfilment': 'sum', 'ship-service-level': 'sum', 'ship-service-level': 'sum', 'Style': 'sum', 'SKU': 'sum', 'Category': 'sum', 'ship-city': 'sum', 'ship-state': 'sum', 'B2B': 'sum', 'promotion-ids': 'sum'})"
   ]
  },
  {
   "cell_type": "code",
   "execution_count": 30,
   "metadata": {},
   "outputs": [
    {
     "data": {
      "text/html": [
       "<div>\n",
       "<style scoped>\n",
       "    .dataframe tbody tr th:only-of-type {\n",
       "        vertical-align: middle;\n",
       "    }\n",
       "\n",
       "    .dataframe tbody tr th {\n",
       "        vertical-align: top;\n",
       "    }\n",
       "\n",
       "    .dataframe thead th {\n",
       "        text-align: right;\n",
       "    }\n",
       "</style>\n",
       "<table border=\"1\" class=\"dataframe\">\n",
       "  <thead>\n",
       "    <tr style=\"text-align: right;\">\n",
       "      <th></th>\n",
       "      <th>Qty</th>\n",
       "      <th>Amount</th>\n",
       "      <th>Status</th>\n",
       "      <th>Fulfilment</th>\n",
       "      <th>ship-service-level</th>\n",
       "      <th>Style</th>\n",
       "      <th>SKU</th>\n",
       "      <th>Category</th>\n",
       "      <th>ship-city</th>\n",
       "      <th>ship-state</th>\n",
       "      <th>B2B</th>\n",
       "      <th>promotion-ids</th>\n",
       "    </tr>\n",
       "    <tr>\n",
       "      <th>Order ID</th>\n",
       "      <th></th>\n",
       "      <th></th>\n",
       "      <th></th>\n",
       "      <th></th>\n",
       "      <th></th>\n",
       "      <th></th>\n",
       "      <th></th>\n",
       "      <th></th>\n",
       "      <th></th>\n",
       "      <th></th>\n",
       "      <th></th>\n",
       "      <th></th>\n",
       "    </tr>\n",
       "  </thead>\n",
       "  <tbody>\n",
       "    <tr>\n",
       "      <th>171-0000547-8192359</th>\n",
       "      <td>1</td>\n",
       "      <td>301.000000</td>\n",
       "      <td>Shipped</td>\n",
       "      <td>Amazon</td>\n",
       "      <td>Expedited</td>\n",
       "      <td>JNE2032</td>\n",
       "      <td>JNE2032-KR-205-XL</td>\n",
       "      <td>kurta</td>\n",
       "      <td>PIMPRI CHINCHWAD</td>\n",
       "      <td>MAHARASHTRA</td>\n",
       "      <td>0</td>\n",
       "      <td>0</td>\n",
       "    </tr>\n",
       "    <tr>\n",
       "      <th>171-0000902-4490745</th>\n",
       "      <td>1</td>\n",
       "      <td>544.000000</td>\n",
       "      <td>Cancelled</td>\n",
       "      <td>Amazon</td>\n",
       "      <td>Expedited</td>\n",
       "      <td>J0097</td>\n",
       "      <td>J0097-KR-M</td>\n",
       "      <td>kurta</td>\n",
       "      <td>Howrah</td>\n",
       "      <td>WEST BENGAL</td>\n",
       "      <td>0</td>\n",
       "      <td>0</td>\n",
       "    </tr>\n",
       "    <tr>\n",
       "      <th>171-0001409-6228339</th>\n",
       "      <td>1</td>\n",
       "      <td>422.000000</td>\n",
       "      <td>Shipped</td>\n",
       "      <td>Amazon</td>\n",
       "      <td>Expedited</td>\n",
       "      <td>JNE3440</td>\n",
       "      <td>JNE3440-KR-N-XS</td>\n",
       "      <td>kurta</td>\n",
       "      <td>KODAD</td>\n",
       "      <td>TELANGANA</td>\n",
       "      <td>0</td>\n",
       "      <td>0</td>\n",
       "    </tr>\n",
       "    <tr>\n",
       "      <th>171-0003082-5110755</th>\n",
       "      <td>1</td>\n",
       "      <td>563.000000</td>\n",
       "      <td>Shipped</td>\n",
       "      <td>Amazon</td>\n",
       "      <td>Expedited</td>\n",
       "      <td>SET291</td>\n",
       "      <td>SET291-KR-PP-L</td>\n",
       "      <td>Set</td>\n",
       "      <td>GREATER NOIDA</td>\n",
       "      <td>UTTAR PRADESH</td>\n",
       "      <td>0</td>\n",
       "      <td>0</td>\n",
       "    </tr>\n",
       "    <tr>\n",
       "      <th>171-0003738-2052324</th>\n",
       "      <td>1</td>\n",
       "      <td>379.000000</td>\n",
       "      <td>Shipped</td>\n",
       "      <td>Amazon</td>\n",
       "      <td>Expedited</td>\n",
       "      <td>JNE3440</td>\n",
       "      <td>JNE3440-KR-N-XS</td>\n",
       "      <td>kurta</td>\n",
       "      <td>FIROZABAD</td>\n",
       "      <td>UTTAR PRADESH</td>\n",
       "      <td>0</td>\n",
       "      <td>0</td>\n",
       "    </tr>\n",
       "    <tr>\n",
       "      <th>...</th>\n",
       "      <td>...</td>\n",
       "      <td>...</td>\n",
       "      <td>...</td>\n",
       "      <td>...</td>\n",
       "      <td>...</td>\n",
       "      <td>...</td>\n",
       "      <td>...</td>\n",
       "      <td>...</td>\n",
       "      <td>...</td>\n",
       "      <td>...</td>\n",
       "      <td>...</td>\n",
       "      <td>...</td>\n",
       "    </tr>\n",
       "    <tr>\n",
       "      <th>S02-9578181-3610412</th>\n",
       "      <td>1</td>\n",
       "      <td>756.778688</td>\n",
       "      <td>Shipped</td>\n",
       "      <td>Amazon</td>\n",
       "      <td>Standard</td>\n",
       "      <td>SET197</td>\n",
       "      <td>SET197-KR-NP-S</td>\n",
       "      <td>Set</td>\n",
       "      <td>Surat</td>\n",
       "      <td>Gujarat</td>\n",
       "      <td>0</td>\n",
       "      <td>0</td>\n",
       "    </tr>\n",
       "    <tr>\n",
       "      <th>S02-9599483-2736812</th>\n",
       "      <td>1</td>\n",
       "      <td>1130.585074</td>\n",
       "      <td>Shipping</td>\n",
       "      <td>Amazon</td>\n",
       "      <td>Standard</td>\n",
       "      <td>J0012</td>\n",
       "      <td>J0012-SKD-L</td>\n",
       "      <td>Set</td>\n",
       "      <td>Surat</td>\n",
       "      <td>Gujarat</td>\n",
       "      <td>0</td>\n",
       "      <td>0</td>\n",
       "    </tr>\n",
       "    <tr>\n",
       "      <th>S02-9649067-3246849</th>\n",
       "      <td>1</td>\n",
       "      <td>450.434748</td>\n",
       "      <td>Shipped</td>\n",
       "      <td>Amazon</td>\n",
       "      <td>Standard</td>\n",
       "      <td>JNE3291</td>\n",
       "      <td>JNE3291-KR-L</td>\n",
       "      <td>kurta</td>\n",
       "      <td>Surat</td>\n",
       "      <td>Gujarat</td>\n",
       "      <td>0</td>\n",
       "      <td>0</td>\n",
       "    </tr>\n",
       "    <tr>\n",
       "      <th>S02-9736323-0094708</th>\n",
       "      <td>1</td>\n",
       "      <td>411.213038</td>\n",
       "      <td>Shipped</td>\n",
       "      <td>Amazon</td>\n",
       "      <td>Standard</td>\n",
       "      <td>JNE2153</td>\n",
       "      <td>JNE2153-KR-278-A-XXXL</td>\n",
       "      <td>kurta</td>\n",
       "      <td>Surat</td>\n",
       "      <td>Gujarat</td>\n",
       "      <td>0</td>\n",
       "      <td>0</td>\n",
       "    </tr>\n",
       "    <tr>\n",
       "      <th>S02-9878098-5959538</th>\n",
       "      <td>1</td>\n",
       "      <td>1130.585074</td>\n",
       "      <td>Shipped</td>\n",
       "      <td>Amazon</td>\n",
       "      <td>Standard</td>\n",
       "      <td>J0012</td>\n",
       "      <td>J0012-SKD-XXL</td>\n",
       "      <td>Set</td>\n",
       "      <td>Surat</td>\n",
       "      <td>Gujarat</td>\n",
       "      <td>0</td>\n",
       "      <td>0</td>\n",
       "    </tr>\n",
       "  </tbody>\n",
       "</table>\n",
       "<p>120378 rows × 12 columns</p>\n",
       "</div>"
      ],
      "text/plain": [
       "                     Qty       Amount     Status Fulfilment  \\\n",
       "Order ID                                                      \n",
       "171-0000547-8192359    1   301.000000    Shipped     Amazon   \n",
       "171-0000902-4490745    1   544.000000  Cancelled     Amazon   \n",
       "171-0001409-6228339    1   422.000000    Shipped     Amazon   \n",
       "171-0003082-5110755    1   563.000000    Shipped     Amazon   \n",
       "171-0003738-2052324    1   379.000000    Shipped     Amazon   \n",
       "...                  ...          ...        ...        ...   \n",
       "S02-9578181-3610412    1   756.778688    Shipped     Amazon   \n",
       "S02-9599483-2736812    1  1130.585074   Shipping     Amazon   \n",
       "S02-9649067-3246849    1   450.434748    Shipped     Amazon   \n",
       "S02-9736323-0094708    1   411.213038    Shipped     Amazon   \n",
       "S02-9878098-5959538    1  1130.585074    Shipped     Amazon   \n",
       "\n",
       "                    ship-service-level    Style                    SKU  \\\n",
       "Order ID                                                                 \n",
       "171-0000547-8192359          Expedited  JNE2032      JNE2032-KR-205-XL   \n",
       "171-0000902-4490745          Expedited    J0097             J0097-KR-M   \n",
       "171-0001409-6228339          Expedited  JNE3440        JNE3440-KR-N-XS   \n",
       "171-0003082-5110755          Expedited   SET291         SET291-KR-PP-L   \n",
       "171-0003738-2052324          Expedited  JNE3440        JNE3440-KR-N-XS   \n",
       "...                                ...      ...                    ...   \n",
       "S02-9578181-3610412           Standard   SET197         SET197-KR-NP-S   \n",
       "S02-9599483-2736812           Standard    J0012            J0012-SKD-L   \n",
       "S02-9649067-3246849           Standard  JNE3291           JNE3291-KR-L   \n",
       "S02-9736323-0094708           Standard  JNE2153  JNE2153-KR-278-A-XXXL   \n",
       "S02-9878098-5959538           Standard    J0012          J0012-SKD-XXL   \n",
       "\n",
       "                    Category         ship-city     ship-state  B2B  \\\n",
       "Order ID                                                             \n",
       "171-0000547-8192359    kurta  PIMPRI CHINCHWAD    MAHARASHTRA    0   \n",
       "171-0000902-4490745    kurta            Howrah    WEST BENGAL    0   \n",
       "171-0001409-6228339    kurta             KODAD      TELANGANA    0   \n",
       "171-0003082-5110755      Set     GREATER NOIDA  UTTAR PRADESH    0   \n",
       "171-0003738-2052324    kurta         FIROZABAD  UTTAR PRADESH    0   \n",
       "...                      ...               ...            ...  ...   \n",
       "S02-9578181-3610412      Set             Surat        Gujarat    0   \n",
       "S02-9599483-2736812      Set             Surat        Gujarat    0   \n",
       "S02-9649067-3246849    kurta             Surat        Gujarat    0   \n",
       "S02-9736323-0094708    kurta             Surat        Gujarat    0   \n",
       "S02-9878098-5959538      Set             Surat        Gujarat    0   \n",
       "\n",
       "                    promotion-ids  \n",
       "Order ID                           \n",
       "171-0000547-8192359             0  \n",
       "171-0000902-4490745             0  \n",
       "171-0001409-6228339             0  \n",
       "171-0003082-5110755             0  \n",
       "171-0003738-2052324             0  \n",
       "...                           ...  \n",
       "S02-9578181-3610412             0  \n",
       "S02-9599483-2736812             0  \n",
       "S02-9649067-3246849             0  \n",
       "S02-9736323-0094708             0  \n",
       "S02-9878098-5959538             0  \n",
       "\n",
       "[120378 rows x 12 columns]"
      ]
     },
     "execution_count": 30,
     "metadata": {},
     "output_type": "execute_result"
    }
   ],
   "source": [
    "Sales_Order_wise"
   ]
  },
  {
   "cell_type": "code",
   "execution_count": 31,
   "metadata": {},
   "outputs": [],
   "source": [
    "Top5_seller_by_qt=Sales_Order_wise.sort_values(by='Qty', ascending = False).head(5)"
   ]
  },
  {
   "cell_type": "code",
   "execution_count": 32,
   "metadata": {},
   "outputs": [
    {
     "data": {
      "text/html": [
       "<div>\n",
       "<style scoped>\n",
       "    .dataframe tbody tr th:only-of-type {\n",
       "        vertical-align: middle;\n",
       "    }\n",
       "\n",
       "    .dataframe tbody tr th {\n",
       "        vertical-align: top;\n",
       "    }\n",
       "\n",
       "    .dataframe thead th {\n",
       "        text-align: right;\n",
       "    }\n",
       "</style>\n",
       "<table border=\"1\" class=\"dataframe\">\n",
       "  <thead>\n",
       "    <tr style=\"text-align: right;\">\n",
       "      <th></th>\n",
       "      <th>Qty</th>\n",
       "      <th>Amount</th>\n",
       "      <th>Status</th>\n",
       "      <th>Fulfilment</th>\n",
       "      <th>ship-service-level</th>\n",
       "      <th>Style</th>\n",
       "      <th>SKU</th>\n",
       "      <th>Category</th>\n",
       "      <th>ship-city</th>\n",
       "      <th>ship-state</th>\n",
       "      <th>B2B</th>\n",
       "      <th>promotion-ids</th>\n",
       "    </tr>\n",
       "    <tr>\n",
       "      <th>Order ID</th>\n",
       "      <th></th>\n",
       "      <th></th>\n",
       "      <th></th>\n",
       "      <th></th>\n",
       "      <th></th>\n",
       "      <th></th>\n",
       "      <th></th>\n",
       "      <th></th>\n",
       "      <th></th>\n",
       "      <th></th>\n",
       "      <th></th>\n",
       "      <th></th>\n",
       "    </tr>\n",
       "  </thead>\n",
       "  <tbody>\n",
       "    <tr>\n",
       "      <th>171-5057375-2831560</th>\n",
       "      <td>12</td>\n",
       "      <td>6227.62</td>\n",
       "      <td>CancelledCancelledCancelledCancelledCancelledC...</td>\n",
       "      <td>MerchantMerchantMerchantMerchantMerchantMercha...</td>\n",
       "      <td>StandardStandardStandardStandardStandardStanda...</td>\n",
       "      <td>J0210JNE3628JNE3476J0150JNE3786SET147SET288J01...</td>\n",
       "      <td>J0210-DR-XXXLJNE3628-KR-XXXLJNE3476-KR-XXLJ015...</td>\n",
       "      <td>Ethnic DresskurtakurtakurtakurtaSetSetTopkurta...</td>\n",
       "      <td>CHENNAICHENNAICHENNAICHENNAICHENNAICHENNAICHEN...</td>\n",
       "      <td>TAMIL NADUTAMIL NADUTAMIL NADUTAMIL NADUTAMIL ...</td>\n",
       "      <td>0</td>\n",
       "      <td>0</td>\n",
       "    </tr>\n",
       "    <tr>\n",
       "      <th>403-4984515-8861958</th>\n",
       "      <td>12</td>\n",
       "      <td>5923.00</td>\n",
       "      <td>ShippedShippedShippedShippedShippedShippedShip...</td>\n",
       "      <td>AmazonAmazonAmazonAmazonAmazonAmazonAmazonAmaz...</td>\n",
       "      <td>ExpeditedExpeditedExpeditedExpeditedExpeditedE...</td>\n",
       "      <td>JNE3792JNE3764JNE3503J0308JNE3702JNE3741JNE363...</td>\n",
       "      <td>JNE3792-KR-XXXLJNE3764-KR-XXXLJNE3503-KR-XXXLJ...</td>\n",
       "      <td>kurtakurtakurtaWestern DresskurtakurtakurtaSet...</td>\n",
       "      <td>SOLAPURSOLAPURSOLAPURSOLAPURSOLAPURSOLAPURSOLA...</td>\n",
       "      <td>MAHARASHTRAMAHARASHTRAMAHARASHTRAMAHARASHTRAMA...</td>\n",
       "      <td>0</td>\n",
       "      <td>IN Core Free Shipping 2015/04/08 23-48-5-108IN...</td>\n",
       "    </tr>\n",
       "    <tr>\n",
       "      <th>404-9932919-6662730</th>\n",
       "      <td>11</td>\n",
       "      <td>5789.00</td>\n",
       "      <td>Shipped - Delivered to BuyerShipped - Delivere...</td>\n",
       "      <td>MerchantMerchantMerchantMerchantMerchantMercha...</td>\n",
       "      <td>StandardStandardStandardStandardStandardStanda...</td>\n",
       "      <td>JNE3548JNE2100JNE3440JNE3630JNE3628SET184JNE36...</td>\n",
       "      <td>JNE3548-KR-XSJNE2100-KR-144-XSJNE3440-KR-N-XSJ...</td>\n",
       "      <td>kurtakurtakurtakurtakurtaSetkurtaSetSetSetkurta</td>\n",
       "      <td>PUNEPUNEPUNEPUNEPUNEPUNEPUNEPUNEPUNEPUNEPUNE</td>\n",
       "      <td>MAHARASHTRAMAHARASHTRAMAHARASHTRAMAHARASHTRAMA...</td>\n",
       "      <td>0</td>\n",
       "      <td>Amazon PLCC Free-Financing Universal Merchant ...</td>\n",
       "    </tr>\n",
       "    <tr>\n",
       "      <th>403-0173977-3041148</th>\n",
       "      <td>11</td>\n",
       "      <td>5976.00</td>\n",
       "      <td>Shipped - Delivered to BuyerShipped - Delivere...</td>\n",
       "      <td>MerchantMerchantMerchantMerchantMerchantMercha...</td>\n",
       "      <td>StandardStandardStandardStandardStandardStanda...</td>\n",
       "      <td>JNE3869JNE3720JNE3273JNE3738JNE3739JNE3861SET2...</td>\n",
       "      <td>JNE3869-DR-XXXLJNE3720-KR-XXXLJNE3273-KR-XXXLJ...</td>\n",
       "      <td>Western DresskurtakurtakurtakurtaWestern Dress...</td>\n",
       "      <td>SOLAPURSOLAPURSOLAPURSOLAPURSOLAPURSOLAPURSOLA...</td>\n",
       "      <td>MAHARASHTRAMAHARASHTRAMAHARASHTRAMAHARASHTRAMA...</td>\n",
       "      <td>0</td>\n",
       "      <td>Amazon PLCC Free-Financing Universal Merchant ...</td>\n",
       "    </tr>\n",
       "    <tr>\n",
       "      <th>408-3317403-1729937</th>\n",
       "      <td>10</td>\n",
       "      <td>5986.00</td>\n",
       "      <td>Shipped - Delivered to BuyerShipped - Delivere...</td>\n",
       "      <td>MerchantMerchantMerchantMerchantMerchantMercha...</td>\n",
       "      <td>StandardStandardStandardStandardStandardStanda...</td>\n",
       "      <td>JNE3437JNE3753JNE3787SET288JNE3726SET048SET220...</td>\n",
       "      <td>JNE3437-KR-XXXLJNE3753-KR-XXXLJNE3787-KR-XXXLS...</td>\n",
       "      <td>kurtakurtakurtaSetkurtaSetSetSetSetkurta</td>\n",
       "      <td>HYDERABADHYDERABADHYDERABADHYDERABADHYDERABADH...</td>\n",
       "      <td>TELANGANATELANGANATELANGANATELANGANATELANGANAT...</td>\n",
       "      <td>0</td>\n",
       "      <td>Amazon PLCC Free-Financing Universal Merchant ...</td>\n",
       "    </tr>\n",
       "  </tbody>\n",
       "</table>\n",
       "</div>"
      ],
      "text/plain": [
       "                     Qty   Amount  \\\n",
       "Order ID                            \n",
       "171-5057375-2831560   12  6227.62   \n",
       "403-4984515-8861958   12  5923.00   \n",
       "404-9932919-6662730   11  5789.00   \n",
       "403-0173977-3041148   11  5976.00   \n",
       "408-3317403-1729937   10  5986.00   \n",
       "\n",
       "                                                                Status  \\\n",
       "Order ID                                                                 \n",
       "171-5057375-2831560  CancelledCancelledCancelledCancelledCancelledC...   \n",
       "403-4984515-8861958  ShippedShippedShippedShippedShippedShippedShip...   \n",
       "404-9932919-6662730  Shipped - Delivered to BuyerShipped - Delivere...   \n",
       "403-0173977-3041148  Shipped - Delivered to BuyerShipped - Delivere...   \n",
       "408-3317403-1729937  Shipped - Delivered to BuyerShipped - Delivere...   \n",
       "\n",
       "                                                            Fulfilment  \\\n",
       "Order ID                                                                 \n",
       "171-5057375-2831560  MerchantMerchantMerchantMerchantMerchantMercha...   \n",
       "403-4984515-8861958  AmazonAmazonAmazonAmazonAmazonAmazonAmazonAmaz...   \n",
       "404-9932919-6662730  MerchantMerchantMerchantMerchantMerchantMercha...   \n",
       "403-0173977-3041148  MerchantMerchantMerchantMerchantMerchantMercha...   \n",
       "408-3317403-1729937  MerchantMerchantMerchantMerchantMerchantMercha...   \n",
       "\n",
       "                                                    ship-service-level  \\\n",
       "Order ID                                                                 \n",
       "171-5057375-2831560  StandardStandardStandardStandardStandardStanda...   \n",
       "403-4984515-8861958  ExpeditedExpeditedExpeditedExpeditedExpeditedE...   \n",
       "404-9932919-6662730  StandardStandardStandardStandardStandardStanda...   \n",
       "403-0173977-3041148  StandardStandardStandardStandardStandardStanda...   \n",
       "408-3317403-1729937  StandardStandardStandardStandardStandardStanda...   \n",
       "\n",
       "                                                                 Style  \\\n",
       "Order ID                                                                 \n",
       "171-5057375-2831560  J0210JNE3628JNE3476J0150JNE3786SET147SET288J01...   \n",
       "403-4984515-8861958  JNE3792JNE3764JNE3503J0308JNE3702JNE3741JNE363...   \n",
       "404-9932919-6662730  JNE3548JNE2100JNE3440JNE3630JNE3628SET184JNE36...   \n",
       "403-0173977-3041148  JNE3869JNE3720JNE3273JNE3738JNE3739JNE3861SET2...   \n",
       "408-3317403-1729937  JNE3437JNE3753JNE3787SET288JNE3726SET048SET220...   \n",
       "\n",
       "                                                                   SKU  \\\n",
       "Order ID                                                                 \n",
       "171-5057375-2831560  J0210-DR-XXXLJNE3628-KR-XXXLJNE3476-KR-XXLJ015...   \n",
       "403-4984515-8861958  JNE3792-KR-XXXLJNE3764-KR-XXXLJNE3503-KR-XXXLJ...   \n",
       "404-9932919-6662730  JNE3548-KR-XSJNE2100-KR-144-XSJNE3440-KR-N-XSJ...   \n",
       "403-0173977-3041148  JNE3869-DR-XXXLJNE3720-KR-XXXLJNE3273-KR-XXXLJ...   \n",
       "408-3317403-1729937  JNE3437-KR-XXXLJNE3753-KR-XXXLJNE3787-KR-XXXLS...   \n",
       "\n",
       "                                                              Category  \\\n",
       "Order ID                                                                 \n",
       "171-5057375-2831560  Ethnic DresskurtakurtakurtakurtaSetSetTopkurta...   \n",
       "403-4984515-8861958  kurtakurtakurtaWestern DresskurtakurtakurtaSet...   \n",
       "404-9932919-6662730    kurtakurtakurtakurtakurtaSetkurtaSetSetSetkurta   \n",
       "403-0173977-3041148  Western DresskurtakurtakurtakurtaWestern Dress...   \n",
       "408-3317403-1729937           kurtakurtakurtaSetkurtaSetSetSetSetkurta   \n",
       "\n",
       "                                                             ship-city  \\\n",
       "Order ID                                                                 \n",
       "171-5057375-2831560  CHENNAICHENNAICHENNAICHENNAICHENNAICHENNAICHEN...   \n",
       "403-4984515-8861958  SOLAPURSOLAPURSOLAPURSOLAPURSOLAPURSOLAPURSOLA...   \n",
       "404-9932919-6662730       PUNEPUNEPUNEPUNEPUNEPUNEPUNEPUNEPUNEPUNEPUNE   \n",
       "403-0173977-3041148  SOLAPURSOLAPURSOLAPURSOLAPURSOLAPURSOLAPURSOLA...   \n",
       "408-3317403-1729937  HYDERABADHYDERABADHYDERABADHYDERABADHYDERABADH...   \n",
       "\n",
       "                                                            ship-state  B2B  \\\n",
       "Order ID                                                                      \n",
       "171-5057375-2831560  TAMIL NADUTAMIL NADUTAMIL NADUTAMIL NADUTAMIL ...    0   \n",
       "403-4984515-8861958  MAHARASHTRAMAHARASHTRAMAHARASHTRAMAHARASHTRAMA...    0   \n",
       "404-9932919-6662730  MAHARASHTRAMAHARASHTRAMAHARASHTRAMAHARASHTRAMA...    0   \n",
       "403-0173977-3041148  MAHARASHTRAMAHARASHTRAMAHARASHTRAMAHARASHTRAMA...    0   \n",
       "408-3317403-1729937  TELANGANATELANGANATELANGANATELANGANATELANGANAT...    0   \n",
       "\n",
       "                                                         promotion-ids  \n",
       "Order ID                                                                \n",
       "171-5057375-2831560                                                  0  \n",
       "403-4984515-8861958  IN Core Free Shipping 2015/04/08 23-48-5-108IN...  \n",
       "404-9932919-6662730  Amazon PLCC Free-Financing Universal Merchant ...  \n",
       "403-0173977-3041148  Amazon PLCC Free-Financing Universal Merchant ...  \n",
       "408-3317403-1729937  Amazon PLCC Free-Financing Universal Merchant ...  "
      ]
     },
     "execution_count": 32,
     "metadata": {},
     "output_type": "execute_result"
    }
   ],
   "source": [
    "Top5_seller_by_qt"
   ]
  },
  {
   "cell_type": "code",
   "execution_count": 33,
   "metadata": {},
   "outputs": [
    {
     "data": {
      "image/png": "[encoded data removed]",
      "text/plain": [
       "<Figure size 800x500 with 1 Axes>"
      ]
     },
     "metadata": {},
     "output_type": "display_data"
    }
   ],
   "source": [
    "_, my_ax = plt.subplots(figsize=(8, 5))\n",
    "Top5_seller_by_qt.plot(kind='bar', ax=my_ax, width=0.4)\n",
    "plt.xticks(rotation=1, fontsize=10)\n",
    "plt.grid(linestyle='--',color='#000000')\n",
    "plt.title(\"Top 5 Orders By Quantity\", fontsize=14)\n",
    "plt.ylabel(\"Amount\")\n",
    "plt.xticks(rotation=45, ha=\"right\")\n",
    "plt.tight_layout()"
   ]
  },
  {
   "cell_type": "code",
   "execution_count": 34,
   "metadata": {},
   "outputs": [],
   "source": [
    "Top5_orderby_amount=Sales_Order_wise.sort_values(by='Amount', ascending = False).head(5)\n"
   ]
  },
  {
   "cell_type": "code",
   "execution_count": 35,
   "metadata": {},
   "outputs": [
    {
     "data": {
      "text/html": [
       "<div>\n",
       "<style scoped>\n",
       "    .dataframe tbody tr th:only-of-type {\n",
       "        vertical-align: middle;\n",
       "    }\n",
       "\n",
       "    .dataframe tbody tr th {\n",
       "        vertical-align: top;\n",
       "    }\n",
       "\n",
       "    .dataframe thead th {\n",
       "        text-align: right;\n",
       "    }\n",
       "</style>\n",
       "<table border=\"1\" class=\"dataframe\">\n",
       "  <thead>\n",
       "    <tr style=\"text-align: right;\">\n",
       "      <th></th>\n",
       "      <th>Qty</th>\n",
       "      <th>Amount</th>\n",
       "      <th>Status</th>\n",
       "      <th>Fulfilment</th>\n",
       "      <th>ship-service-level</th>\n",
       "      <th>Style</th>\n",
       "      <th>SKU</th>\n",
       "      <th>Category</th>\n",
       "      <th>ship-city</th>\n",
       "      <th>ship-state</th>\n",
       "      <th>B2B</th>\n",
       "      <th>promotion-ids</th>\n",
       "    </tr>\n",
       "    <tr>\n",
       "      <th>Order ID</th>\n",
       "      <th></th>\n",
       "      <th></th>\n",
       "      <th></th>\n",
       "      <th></th>\n",
       "      <th></th>\n",
       "      <th></th>\n",
       "      <th></th>\n",
       "      <th></th>\n",
       "      <th></th>\n",
       "      <th></th>\n",
       "      <th></th>\n",
       "      <th></th>\n",
       "    </tr>\n",
       "  </thead>\n",
       "  <tbody>\n",
       "    <tr>\n",
       "      <th>407-0717613-4338735</th>\n",
       "      <td>6</td>\n",
       "      <td>6749.275862</td>\n",
       "      <td>ShippedShippedShippedShippedShippedShipped</td>\n",
       "      <td>AmazonAmazonAmazonAmazonAmazonAmazon</td>\n",
       "      <td>ExpeditedExpeditedExpeditedExpeditedExpeditedE...</td>\n",
       "      <td>J0004J0009J0007JNE3463J0012J0008</td>\n",
       "      <td>J0004-SKD-LJ0009-SKD-LJ0007-SKD-LJNE3463-KR-LJ...</td>\n",
       "      <td>SetSetSetkurtaSetSet</td>\n",
       "      <td>MUMBAIMUMBAIMUMBAIMUMBAIMUMBAIMUMBAI</td>\n",
       "      <td>MAHARASHTRAMAHARASHTRAMAHARASHTRAMAHARASHTRAMA...</td>\n",
       "      <td>0</td>\n",
       "      <td>0</td>\n",
       "    </tr>\n",
       "    <tr>\n",
       "      <th>406-9002076-4152331</th>\n",
       "      <td>9</td>\n",
       "      <td>6509.000000</td>\n",
       "      <td>Shipped - Delivered to BuyerShipped - Delivere...</td>\n",
       "      <td>MerchantMerchantMerchantMerchantMerchantMercha...</td>\n",
       "      <td>StandardStandardStandardStandardStandardStanda...</td>\n",
       "      <td>J0308J0302SET324J0338JNE3870SET267J0339J0295J0341</td>\n",
       "      <td>J0308-DR-XXXLJ0302-DR-XXLSET324-KR-NP-XXXLJ033...</td>\n",
       "      <td>Western DressWestern DressSetWestern DressWest...</td>\n",
       "      <td>HYDERABADHYDERABADHYDERABADHYDERABADHYDERABADH...</td>\n",
       "      <td>TELANGANATELANGANATELANGANATELANGANATELANGANAT...</td>\n",
       "      <td>0</td>\n",
       "      <td>Amazon PLCC Free-Financing Universal Merchant ...</td>\n",
       "    </tr>\n",
       "    <tr>\n",
       "      <th>171-0706521-2133101</th>\n",
       "      <td>9</td>\n",
       "      <td>6313.000000</td>\n",
       "      <td>Shipped - Delivered to BuyerShipped - Delivere...</td>\n",
       "      <td>MerchantMerchantMerchantMerchantMerchantMercha...</td>\n",
       "      <td>StandardStandardStandardStandardStandardStanda...</td>\n",
       "      <td>JNE3605SET058SET217JNE3440SET094SET233SET396JN...</td>\n",
       "      <td>JNE3605-KR-XXLSET058-KR-NP-XXLSET217-KR-PP-XXL...</td>\n",
       "      <td>kurtaSetSetkurtaSetSetSetkurtaSet</td>\n",
       "      <td>HYDERABADHYDERABADHYDERABADHYDERABADHYDERABADH...</td>\n",
       "      <td>TELANGANATELANGANATELANGANATELANGANATELANGANAT...</td>\n",
       "      <td>0</td>\n",
       "      <td>Amazon PLCC Free-Financing Universal Merchant ...</td>\n",
       "    </tr>\n",
       "    <tr>\n",
       "      <th>403-9984530-4477124</th>\n",
       "      <td>7</td>\n",
       "      <td>6268.000000</td>\n",
       "      <td>ShippedShippedShippedShippedShippedShippedShipped</td>\n",
       "      <td>AmazonAmazonAmazonAmazonAmazonAmazonAmazon</td>\n",
       "      <td>ExpeditedExpeditedExpeditedExpeditedExpeditedE...</td>\n",
       "      <td>SET269SET268J0008JNE3463SET264J0005J0283</td>\n",
       "      <td>SET269-KR-NP-XLSET268-KR-NP-XLJ0008-SKD-XLJNE3...</td>\n",
       "      <td>SetSetSetkurtaSetWestern DressSet</td>\n",
       "      <td>Ranip,AHMEDABADRanip,AHMEDABADRanip,AHMEDABADR...</td>\n",
       "      <td>GujaratGujaratGujaratGujaratGujaratGujaratGujarat</td>\n",
       "      <td>0</td>\n",
       "      <td>IN Core Free Shipping 2015/04/08 23-48-5-108IN...</td>\n",
       "    </tr>\n",
       "    <tr>\n",
       "      <th>171-5057375-2831560</th>\n",
       "      <td>12</td>\n",
       "      <td>6227.620000</td>\n",
       "      <td>CancelledCancelledCancelledCancelledCancelledC...</td>\n",
       "      <td>MerchantMerchantMerchantMerchantMerchantMercha...</td>\n",
       "      <td>StandardStandardStandardStandardStandardStanda...</td>\n",
       "      <td>J0210JNE3628JNE3476J0150JNE3786SET147SET288J01...</td>\n",
       "      <td>J0210-DR-XXXLJNE3628-KR-XXXLJNE3476-KR-XXLJ015...</td>\n",
       "      <td>Ethnic DresskurtakurtakurtakurtaSetSetTopkurta...</td>\n",
       "      <td>CHENNAICHENNAICHENNAICHENNAICHENNAICHENNAICHEN...</td>\n",
       "      <td>TAMIL NADUTAMIL NADUTAMIL NADUTAMIL NADUTAMIL ...</td>\n",
       "      <td>0</td>\n",
       "      <td>0</td>\n",
       "    </tr>\n",
       "  </tbody>\n",
       "</table>\n",
       "</div>"
      ],
      "text/plain": [
       "                     Qty       Amount  \\\n",
       "Order ID                                \n",
       "407-0717613-4338735    6  6749.275862   \n",
       "406-9002076-4152331    9  6509.000000   \n",
       "171-0706521-2133101    9  6313.000000   \n",
       "403-9984530-4477124    7  6268.000000   \n",
       "171-5057375-2831560   12  6227.620000   \n",
       "\n",
       "                                                                Status  \\\n",
       "Order ID                                                                 \n",
       "407-0717613-4338735         ShippedShippedShippedShippedShippedShipped   \n",
       "406-9002076-4152331  Shipped - Delivered to BuyerShipped - Delivere...   \n",
       "171-0706521-2133101  Shipped - Delivered to BuyerShipped - Delivere...   \n",
       "403-9984530-4477124  ShippedShippedShippedShippedShippedShippedShipped   \n",
       "171-5057375-2831560  CancelledCancelledCancelledCancelledCancelledC...   \n",
       "\n",
       "                                                            Fulfilment  \\\n",
       "Order ID                                                                 \n",
       "407-0717613-4338735               AmazonAmazonAmazonAmazonAmazonAmazon   \n",
       "406-9002076-4152331  MerchantMerchantMerchantMerchantMerchantMercha...   \n",
       "171-0706521-2133101  MerchantMerchantMerchantMerchantMerchantMercha...   \n",
       "403-9984530-4477124         AmazonAmazonAmazonAmazonAmazonAmazonAmazon   \n",
       "171-5057375-2831560  MerchantMerchantMerchantMerchantMerchantMercha...   \n",
       "\n",
       "                                                    ship-service-level  \\\n",
       "Order ID                                                                 \n",
       "407-0717613-4338735  ExpeditedExpeditedExpeditedExpeditedExpeditedE...   \n",
       "406-9002076-4152331  StandardStandardStandardStandardStandardStanda...   \n",
       "171-0706521-2133101  StandardStandardStandardStandardStandardStanda...   \n",
       "403-9984530-4477124  ExpeditedExpeditedExpeditedExpeditedExpeditedE...   \n",
       "171-5057375-2831560  StandardStandardStandardStandardStandardStanda...   \n",
       "\n",
       "                                                                 Style  \\\n",
       "Order ID                                                                 \n",
       "407-0717613-4338735                   J0004J0009J0007JNE3463J0012J0008   \n",
       "406-9002076-4152331  J0308J0302SET324J0338JNE3870SET267J0339J0295J0341   \n",
       "171-0706521-2133101  JNE3605SET058SET217JNE3440SET094SET233SET396JN...   \n",
       "403-9984530-4477124           SET269SET268J0008JNE3463SET264J0005J0283   \n",
       "171-5057375-2831560  J0210JNE3628JNE3476J0150JNE3786SET147SET288J01...   \n",
       "\n",
       "                                                                   SKU  \\\n",
       "Order ID                                                                 \n",
       "407-0717613-4338735  J0004-SKD-LJ0009-SKD-LJ0007-SKD-LJNE3463-KR-LJ...   \n",
       "406-9002076-4152331  J0308-DR-XXXLJ0302-DR-XXLSET324-KR-NP-XXXLJ033...   \n",
       "171-0706521-2133101  JNE3605-KR-XXLSET058-KR-NP-XXLSET217-KR-PP-XXL...   \n",
       "403-9984530-4477124  SET269-KR-NP-XLSET268-KR-NP-XLJ0008-SKD-XLJNE3...   \n",
       "171-5057375-2831560  J0210-DR-XXXLJNE3628-KR-XXXLJNE3476-KR-XXLJ015...   \n",
       "\n",
       "                                                              Category  \\\n",
       "Order ID                                                                 \n",
       "407-0717613-4338735                               SetSetSetkurtaSetSet   \n",
       "406-9002076-4152331  Western DressWestern DressSetWestern DressWest...   \n",
       "171-0706521-2133101                  kurtaSetSetkurtaSetSetSetkurtaSet   \n",
       "403-9984530-4477124                  SetSetSetkurtaSetWestern DressSet   \n",
       "171-5057375-2831560  Ethnic DresskurtakurtakurtakurtaSetSetTopkurta...   \n",
       "\n",
       "                                                             ship-city  \\\n",
       "Order ID                                                                 \n",
       "407-0717613-4338735               MUMBAIMUMBAIMUMBAIMUMBAIMUMBAIMUMBAI   \n",
       "406-9002076-4152331  HYDERABADHYDERABADHYDERABADHYDERABADHYDERABADH...   \n",
       "171-0706521-2133101  HYDERABADHYDERABADHYDERABADHYDERABADHYDERABADH...   \n",
       "403-9984530-4477124  Ranip,AHMEDABADRanip,AHMEDABADRanip,AHMEDABADR...   \n",
       "171-5057375-2831560  CHENNAICHENNAICHENNAICHENNAICHENNAICHENNAICHEN...   \n",
       "\n",
       "                                                            ship-state  B2B  \\\n",
       "Order ID                                                                      \n",
       "407-0717613-4338735  MAHARASHTRAMAHARASHTRAMAHARASHTRAMAHARASHTRAMA...    0   \n",
       "406-9002076-4152331  TELANGANATELANGANATELANGANATELANGANATELANGANAT...    0   \n",
       "171-0706521-2133101  TELANGANATELANGANATELANGANATELANGANATELANGANAT...    0   \n",
       "403-9984530-4477124  GujaratGujaratGujaratGujaratGujaratGujaratGujarat    0   \n",
       "171-5057375-2831560  TAMIL NADUTAMIL NADUTAMIL NADUTAMIL NADUTAMIL ...    0   \n",
       "\n",
       "                                                         promotion-ids  \n",
       "Order ID                                                                \n",
       "407-0717613-4338735                                                  0  \n",
       "406-9002076-4152331  Amazon PLCC Free-Financing Universal Merchant ...  \n",
       "171-0706521-2133101  Amazon PLCC Free-Financing Universal Merchant ...  \n",
       "403-9984530-4477124  IN Core Free Shipping 2015/04/08 23-48-5-108IN...  \n",
       "171-5057375-2831560                                                  0  "
      ]
     },
     "execution_count": 35,
     "metadata": {},
     "output_type": "execute_result"
    }
   ],
   "source": [
    "Top5_orderby_amount"
   ]
  },
  {
   "cell_type": "code",
   "execution_count": 36,
   "metadata": {},
   "outputs": [
    {
     "data": {
      "image/png": "[encoded data removed]",
      "text/plain": [
       "<Figure size 800x500 with 1 Axes>"
      ]
     },
     "metadata": {},
     "output_type": "display_data"
    }
   ],
   "source": [
    "_, my_ax = plt.subplots(figsize=(8, 5))\n",
    "Top5_orderby_amount.plot(kind='bar', ax=my_ax, width=0.4,color='#b6fb82')\n",
    "plt.xticks(rotation=1, fontsize=10)\n",
    "#plt.grid(color='#000000')\n",
    "plt.title(\"Top 5 Orders By Amount\", fontsize=14)\n",
    "plt.ylabel(\"Amount\")\n",
    "plt.xticks(rotation=45, ha=\"right\")\n",
    "plt.tight_layout()"
   ]
  },
  {
   "cell_type": "code",
   "execution_count": 37,
   "metadata": {},
   "outputs": [],
   "source": [
    "Amazon_df['Year'] = pd.DatetimeIndex(Amazon_df['Date']).year\n",
    "Amazon_df['Month'] = pd.DatetimeIndex(Amazon_df['Date']).month"
   ]
  },
  {
   "cell_type": "code",
   "execution_count": 38,
   "metadata": {},
   "outputs": [],
   "source": [
    "Orders_date_wise = Amazon_df.groupby('Date').agg({'Qty': 'count', 'Amount': 'sum'}).sort_values(by='Amount', ascending = False).head(5)\n"
   ]
  },
  {
   "cell_type": "code",
   "execution_count": 39,
   "metadata": {},
   "outputs": [
    {
     "data": {
      "text/html": [
       "<div>\n",
       "<style scoped>\n",
       "    .dataframe tbody tr th:only-of-type {\n",
       "        vertical-align: middle;\n",
       "    }\n",
       "\n",
       "    .dataframe tbody tr th {\n",
       "        vertical-align: top;\n",
       "    }\n",
       "\n",
       "    .dataframe thead th {\n",
       "        text-align: right;\n",
       "    }\n",
       "</style>\n",
       "<table border=\"1\" class=\"dataframe\">\n",
       "  <thead>\n",
       "    <tr style=\"text-align: right;\">\n",
       "      <th></th>\n",
       "      <th>Qty</th>\n",
       "      <th>Amount</th>\n",
       "    </tr>\n",
       "    <tr>\n",
       "      <th>Date</th>\n",
       "      <th></th>\n",
       "      <th></th>\n",
       "    </tr>\n",
       "  </thead>\n",
       "  <tbody>\n",
       "    <tr>\n",
       "      <th>2022-05-03</th>\n",
       "      <td>2085</td>\n",
       "      <td>1.275930e+06</td>\n",
       "    </tr>\n",
       "    <tr>\n",
       "      <th>2022-05-04</th>\n",
       "      <td>2015</td>\n",
       "      <td>1.264548e+06</td>\n",
       "    </tr>\n",
       "    <tr>\n",
       "      <th>2022-05-02</th>\n",
       "      <td>2079</td>\n",
       "      <td>1.258622e+06</td>\n",
       "    </tr>\n",
       "    <tr>\n",
       "      <th>2022-04-14</th>\n",
       "      <td>1883</td>\n",
       "      <td>1.164142e+06</td>\n",
       "    </tr>\n",
       "    <tr>\n",
       "      <th>2022-04-24</th>\n",
       "      <td>1810</td>\n",
       "      <td>1.144748e+06</td>\n",
       "    </tr>\n",
       "  </tbody>\n",
       "</table>\n",
       "</div>"
      ],
      "text/plain": [
       "             Qty        Amount\n",
       "Date                          \n",
       "2022-05-03  2085  1.275930e+06\n",
       "2022-05-04  2015  1.264548e+06\n",
       "2022-05-02  2079  1.258622e+06\n",
       "2022-04-14  1883  1.164142e+06\n",
       "2022-04-24  1810  1.144748e+06"
      ]
     },
     "execution_count": 39,
     "metadata": {},
     "output_type": "execute_result"
    }
   ],
   "source": [
    "Orders_date_wise"
   ]
  },
  {
   "cell_type": "code",
   "execution_count": 40,
   "metadata": {},
   "outputs": [],
   "source": [
    "Orders_qt=Amazon_df.groupby('Date').agg({'Qty': 'count', 'Amount': 'sum'}).sort_values(by='Qty', ascending = False).head(5)"
   ]
  },
  {
   "cell_type": "code",
   "execution_count": 41,
   "metadata": {},
   "outputs": [
    {
     "data": {
      "text/html": [
       "<div>\n",
       "<style scoped>\n",
       "    .dataframe tbody tr th:only-of-type {\n",
       "        vertical-align: middle;\n",
       "    }\n",
       "\n",
       "    .dataframe tbody tr th {\n",
       "        vertical-align: top;\n",
       "    }\n",
       "\n",
       "    .dataframe thead th {\n",
       "        text-align: right;\n",
       "    }\n",
       "</style>\n",
       "<table border=\"1\" class=\"dataframe\">\n",
       "  <thead>\n",
       "    <tr style=\"text-align: right;\">\n",
       "      <th></th>\n",
       "      <th>Qty</th>\n",
       "      <th>Amount</th>\n",
       "    </tr>\n",
       "    <tr>\n",
       "      <th>Date</th>\n",
       "      <th></th>\n",
       "      <th></th>\n",
       "    </tr>\n",
       "  </thead>\n",
       "  <tbody>\n",
       "    <tr>\n",
       "      <th>2022-05-03</th>\n",
       "      <td>2085</td>\n",
       "      <td>1.275930e+06</td>\n",
       "    </tr>\n",
       "    <tr>\n",
       "      <th>2022-05-02</th>\n",
       "      <td>2079</td>\n",
       "      <td>1.258622e+06</td>\n",
       "    </tr>\n",
       "    <tr>\n",
       "      <th>2022-05-04</th>\n",
       "      <td>2015</td>\n",
       "      <td>1.264548e+06</td>\n",
       "    </tr>\n",
       "    <tr>\n",
       "      <th>2022-04-14</th>\n",
       "      <td>1883</td>\n",
       "      <td>1.164142e+06</td>\n",
       "    </tr>\n",
       "    <tr>\n",
       "      <th>2022-04-15</th>\n",
       "      <td>1853</td>\n",
       "      <td>1.107090e+06</td>\n",
       "    </tr>\n",
       "  </tbody>\n",
       "</table>\n",
       "</div>"
      ],
      "text/plain": [
       "             Qty        Amount\n",
       "Date                          \n",
       "2022-05-03  2085  1.275930e+06\n",
       "2022-05-02  2079  1.258622e+06\n",
       "2022-05-04  2015  1.264548e+06\n",
       "2022-04-14  1883  1.164142e+06\n",
       "2022-04-15  1853  1.107090e+06"
      ]
     },
     "execution_count": 41,
     "metadata": {},
     "output_type": "execute_result"
    }
   ],
   "source": [
    "Orders_qt"
   ]
  },
  {
   "cell_type": "code",
   "execution_count": 42,
   "metadata": {},
   "outputs": [],
   "source": [
    "order_status=Amazon_df.groupby('Status').agg({'Qty': 'count', 'Amount': 'sum'}).sort_values(by='Qty', ascending = False)"
   ]
  },
  {
   "cell_type": "code",
   "execution_count": 43,
   "metadata": {},
   "outputs": [
    {
     "data": {
      "text/html": [
       "<div>\n",
       "<style scoped>\n",
       "    .dataframe tbody tr th:only-of-type {\n",
       "        vertical-align: middle;\n",
       "    }\n",
       "\n",
       "    .dataframe tbody tr th {\n",
       "        vertical-align: top;\n",
       "    }\n",
       "\n",
       "    .dataframe thead th {\n",
       "        text-align: right;\n",
       "    }\n",
       "</style>\n",
       "<table border=\"1\" class=\"dataframe\">\n",
       "  <thead>\n",
       "    <tr style=\"text-align: right;\">\n",
       "      <th></th>\n",
       "      <th>Qty</th>\n",
       "      <th>Amount</th>\n",
       "    </tr>\n",
       "    <tr>\n",
       "      <th>Status</th>\n",
       "      <th></th>\n",
       "      <th></th>\n",
       "    </tr>\n",
       "  </thead>\n",
       "  <tbody>\n",
       "    <tr>\n",
       "      <th>Shipped</th>\n",
       "      <td>77804</td>\n",
       "      <td>4.942066e+07</td>\n",
       "    </tr>\n",
       "    <tr>\n",
       "      <th>Shipped - Delivered to Buyer</th>\n",
       "      <td>28769</td>\n",
       "      <td>1.836371e+07</td>\n",
       "    </tr>\n",
       "    <tr>\n",
       "      <th>Cancelled</th>\n",
       "      <td>18332</td>\n",
       "      <td>1.149928e+07</td>\n",
       "    </tr>\n",
       "    <tr>\n",
       "      <th>Shipped - Returned to Seller</th>\n",
       "      <td>1953</td>\n",
       "      <td>1.246176e+06</td>\n",
       "    </tr>\n",
       "    <tr>\n",
       "      <th>Shipped - Picked Up</th>\n",
       "      <td>973</td>\n",
       "      <td>6.487440e+05</td>\n",
       "    </tr>\n",
       "    <tr>\n",
       "      <th>Pending</th>\n",
       "      <td>658</td>\n",
       "      <td>4.199523e+05</td>\n",
       "    </tr>\n",
       "    <tr>\n",
       "      <th>Pending - Waiting for Pick Up</th>\n",
       "      <td>281</td>\n",
       "      <td>1.910750e+05</td>\n",
       "    </tr>\n",
       "    <tr>\n",
       "      <th>Shipped - Returning to Seller</th>\n",
       "      <td>145</td>\n",
       "      <td>1.023580e+05</td>\n",
       "    </tr>\n",
       "    <tr>\n",
       "      <th>Shipped - Out for Delivery</th>\n",
       "      <td>35</td>\n",
       "      <td>2.380700e+04</td>\n",
       "    </tr>\n",
       "    <tr>\n",
       "      <th>Shipped - Rejected by Buyer</th>\n",
       "      <td>11</td>\n",
       "      <td>7.295000e+03</td>\n",
       "    </tr>\n",
       "    <tr>\n",
       "      <th>Shipping</th>\n",
       "      <td>8</td>\n",
       "      <td>7.223499e+03</td>\n",
       "    </tr>\n",
       "    <tr>\n",
       "      <th>Shipped - Lost in Transit</th>\n",
       "      <td>5</td>\n",
       "      <td>3.207000e+03</td>\n",
       "    </tr>\n",
       "    <tr>\n",
       "      <th>Shipped - Damaged</th>\n",
       "      <td>1</td>\n",
       "      <td>1.136000e+03</td>\n",
       "    </tr>\n",
       "  </tbody>\n",
       "</table>\n",
       "</div>"
      ],
      "text/plain": [
       "                                 Qty        Amount\n",
       "Status                                            \n",
       "Shipped                        77804  4.942066e+07\n",
       "Shipped - Delivered to Buyer   28769  1.836371e+07\n",
       "Cancelled                      18332  1.149928e+07\n",
       "Shipped - Returned to Seller    1953  1.246176e+06\n",
       "Shipped - Picked Up              973  6.487440e+05\n",
       "Pending                          658  4.199523e+05\n",
       "Pending - Waiting for Pick Up    281  1.910750e+05\n",
       "Shipped - Returning to Seller    145  1.023580e+05\n",
       "Shipped - Out for Delivery        35  2.380700e+04\n",
       "Shipped - Rejected by Buyer       11  7.295000e+03\n",
       "Shipping                           8  7.223499e+03\n",
       "Shipped - Lost in Transit          5  3.207000e+03\n",
       "Shipped - Damaged                  1  1.136000e+03"
      ]
     },
     "execution_count": 43,
     "metadata": {},
     "output_type": "execute_result"
    }
   ],
   "source": [
    "order_status"
   ]
  },
  {
   "cell_type": "code",
   "execution_count": 44,
   "metadata": {},
   "outputs": [
    {
     "data": {
      "image/png": "[encoded data removed]",
      "text/plain": [
       "<Figure size 800x500 with 1 Axes>"
      ]
     },
     "metadata": {},
     "output_type": "display_data"
    }
   ],
   "source": [
    "_, my_ax = plt.subplots(figsize=(8, 5))\n",
    "order_status.plot(kind='bar', ax=my_ax, width=0.4)\n",
    "plt.xticks(rotation=1, fontsize=10)\n",
    "#plt.grid()\n",
    "plt.title(\"All Order Status\", fontsize=14)\n",
    "plt.ylabel(\"Amount\")\n",
    "plt.xticks(rotation=45, ha=\"right\")\n",
    "plt.tight_layout()"
   ]
  },
  {
   "cell_type": "markdown",
   "metadata": {},
   "source": [
    "### Saling by mounth"
   ]
  },
  {
   "cell_type": "code",
   "execution_count": 49,
   "metadata": {},
   "outputs": [
    {
     "data": {
      "text/html": [
       "<div>\n",
       "<style scoped>\n",
       "    .dataframe tbody tr th:only-of-type {\n",
       "        vertical-align: middle;\n",
       "    }\n",
       "\n",
       "    .dataframe tbody tr th {\n",
       "        vertical-align: top;\n",
       "    }\n",
       "\n",
       "    .dataframe thead th {\n",
       "        text-align: right;\n",
       "    }\n",
       "</style>\n",
       "<table border=\"1\" class=\"dataframe\">\n",
       "  <thead>\n",
       "    <tr style=\"text-align: right;\">\n",
       "      <th></th>\n",
       "      <th>Amount</th>\n",
       "      <th>Qty</th>\n",
       "    </tr>\n",
       "    <tr>\n",
       "      <th>Month</th>\n",
       "      <th></th>\n",
       "      <th></th>\n",
       "    </tr>\n",
       "  </thead>\n",
       "  <tbody>\n",
       "    <tr>\n",
       "      <th>4</th>\n",
       "      <td>3.041243e+07</td>\n",
       "      <td>44206</td>\n",
       "    </tr>\n",
       "    <tr>\n",
       "      <th>5</th>\n",
       "      <td>2.705543e+07</td>\n",
       "      <td>38011</td>\n",
       "    </tr>\n",
       "    <tr>\n",
       "      <th>6</th>\n",
       "      <td>2.435970e+07</td>\n",
       "      <td>34276</td>\n",
       "    </tr>\n",
       "  </tbody>\n",
       "</table>\n",
       "</div>"
      ],
      "text/plain": [
       "             Amount    Qty\n",
       "Month                     \n",
       "4      3.041243e+07  44206\n",
       "5      2.705543e+07  38011\n",
       "6      2.435970e+07  34276"
      ]
     },
     "execution_count": 49,
     "metadata": {},
     "output_type": "execute_result"
    }
   ],
   "source": [
    "Sales_month_wise = Amazon_df.groupby('Month').agg({'Amount': 'sum', 'Qty': 'sum'})\n",
    "Sales_month_wise = Sales_month_wise[1:] # remove the first row as it is not a complete month\n",
    "Sales_month_wise"
   ]
  },
  {
   "cell_type": "code",
   "execution_count": 50,
   "metadata": {},
   "outputs": [
    {
     "data": {
      "image/png": "[encoded data removed]",
      "text/plain": [
       "<Figure size 640x480 with 1 Axes>"
      ]
     },
     "metadata": {},
     "output_type": "display_data"
    }
   ],
   "source": [
    "Sales_month_wise.plot(kind='line',color='#f0bda7')\n",
    "plt.title('Monthly sales', fontsize=18, weight='bold')\n",
    "plt.ylabel('Total Amount (in millions)', fontsize=14)\n",
    "plt.grid(True, axis='y', linestyle='--', alpha=0.7)\n",
    "plt.xticks(rotation=45, ha=\"right\")\n",
    "plt.legend()\n",
    "plt.tight_layout()\n",
    "plt.show()"
   ]
  },
  {
   "cell_type": "markdown",
   "metadata": {},
   "source": [
    "\n",
    "Why did sales drop in May and June?"
   ]
  },
  {
   "cell_type": "markdown",
   "metadata": {},
   "source": [
    "### Saling pecentage of fulfilment"
   ]
  },
  {
   "cell_type": "code",
   "execution_count": 47,
   "metadata": {},
   "outputs": [
    {
     "data": {
      "text/plain": [
       "Fulfilment\n",
       "Amazon      69.989977\n",
       "Merchant    30.725194\n",
       "Name: Amount, dtype: float64"
      ]
     },
     "execution_count": 47,
     "metadata": {},
     "output_type": "execute_result"
    }
   ],
   "source": [
    "Sales_percentage_by_fulfilment = (Amazon_df.groupby('Fulfilment').agg({'Qty': 'count', 'Amount': 'sum'}).sort_values(by='Amount', ascending = False)['Amount']/81352807.57)*100\n",
    "Sales_percentage_by_fulfilment"
   ]
  },
  {
   "cell_type": "code",
   "execution_count": 48,
   "metadata": {},
   "outputs": [
    {
     "data": {
      "image/png": "[encoded data removed]",
      "text/plain": [
       "<Figure size 640x480 with 1 Axes>"
      ]
     },
     "metadata": {},
     "output_type": "display_data"
    }
   ],
   "source": [
    "Sales_percentage_by_fulfilment.plot(kind='pie')\n",
    "plt.tight_layout()"
   ]
  },
  {
   "cell_type": "markdown",
   "metadata": {},
   "source": [
    "Methond of fulfillment 70% by Amazon and other a merchant.This point show that people trust in amazon"
   ]
  }
 ],
 "metadata": {
  "kernelspec": {
   "display_name": "analysisenv",
   "language": "python",
   "name": "python3"
  },
  "language_info": {
   "codemirror_mode": {
    "name": "ipython",
    "version": 3
   },
   "file_extension": ".py",
   "mimetype": "text/x-python",
   "name": "python",
   "nbconvert_exporter": "python",
   "pygments_lexer": "ipython3",
   "version": "3.13.0"
  }
 },
 "nbformat": 4,
 "nbformat_minor": 2
}
